{
 "cells": [
  {
   "cell_type": "markdown",
   "metadata": {},
   "source": [
    "# Final Project\n",
    "## Nicholas Schenone - A13599911"
   ]
  },
  {
   "cell_type": "markdown",
   "metadata": {},
   "source": [
    "- 3 trials\n",
    "- 7 classifiers\n",
    "    - SVM\n",
    "    - Logistic Regression\n",
    "    - Decision Tree\n",
    "    - Perceptron\n",
    "    - Multilayer Perceptron\n",
    "    - KNN\n",
    "    - Random Forest\n",
    "- 3 datasets\n",
    "    - Heart Disease: https://www.kaggle.com/ronitf/heart-disease-uci\n",
    "    - Mushroom: https://archive.ics.uci.edu/ml/datasets/Mushroom\n",
    "    - Adult Data Set: https://archive.ics.uci.edu/ml/datasets/Adult\n",
    "- 3 partitions (20/80, 50/50, 80/20)\n",
    "- 3 accuracies per (train, validation, test)"
   ]
  },
  {
   "cell_type": "markdown",
   "metadata": {},
   "source": [
    "### Imports"
   ]
  },
  {
   "cell_type": "code",
   "execution_count": 1,
   "metadata": {},
   "outputs": [],
   "source": [
    "import pandas as pd\n",
    "import numpy as np\n",
    "\n",
    "from sklearn.model_selection import train_test_split, GridSearchCV, RandomizedSearchCV\n",
    "from sklearn.preprocessing import StandardScaler\n",
    "from sklearn import svm\n",
    "from sklearn.tree import DecisionTreeClassifier\n",
    "from sklearn.linear_model import Perceptron, LogisticRegression\n",
    "from sklearn.metrics import accuracy_score, f1_score, precision_score, recall_score, classification_report, confusion_matrix\n",
    "from sklearn.neural_network import MLPClassifier\n",
    "from sklearn.neighbors import KNeighborsClassifier\n",
    "from sklearn.ensemble import RandomForestClassifier\n",
    "\n",
    "import json\n",
    "\n",
    "import seaborn as sns"
   ]
  },
  {
   "cell_type": "markdown",
   "metadata": {},
   "source": [
    "### Pre-Process Data"
   ]
  },
  {
   "cell_type": "code",
   "execution_count": 2,
   "metadata": {},
   "outputs": [],
   "source": [
    "def adult_pre_process(data_path=\"data/adult/adult.csv\", split=0.2):\n",
    "    df_adult = pd.read_csv(data_path)\n",
    "    df_adult_one_hot = pd.get_dummies(df_adult);\n",
    "    \n",
    "    X = df_adult_one_hot.iloc[:,0 : len(df_adult_one_hot.columns) - 1]\n",
    "    X = StandardScaler().fit_transform(X)\n",
    "\n",
    "    y = df_adult_one_hot.iloc[:, len(df_adult_one_hot.columns) - 1]\n",
    "    y = y.values.ravel()\n",
    "\n",
    "    X_train, X_test, y_train, y_test = train_test_split(X, y, test_size=split)\n",
    "\n",
    "    return X, y, X_train, X_test, y_train, y_test\n",
    "\n",
    "def heart_pre_process(data_path=\"data/heart_disease/heart.csv\", split=0.2):\n",
    "    df_heart = pd.read_csv(data_path)\n",
    "    X = df_heart.iloc[:, 0 : len(df_heart.columns) - 1]\n",
    "    X = StandardScaler().fit_transform(X)\n",
    "\n",
    "    y = df_heart.iloc[:, len(df_heart.columns) - 1]\n",
    "    y = y.values.ravel()\n",
    "\n",
    "    X_train, X_test, y_train, y_test = train_test_split(X, y, test_size=split)\n",
    "\n",
    "    return X, y, X_train, X_test, y_train, y_test\n",
    "\n",
    "def mushroom_pre_process(data_path=\"data/mushroom/mushroom.csv\", split=0.2):\n",
    "    df_mushroom = pd.read_csv(data_path, header=None)\n",
    "    df_mush_one_hot = pd.get_dummies(df_mushroom);\n",
    "    \n",
    "    X = df_mush_one_hot.iloc[:,1:]\n",
    "    X = StandardScaler().fit_transform(X)\n",
    "\n",
    "    y = df_mush_one_hot.iloc[:, :1]\n",
    "    y = y.values.ravel()\n",
    "    \n",
    "    X_train, X_test, y_train, y_test = train_test_split(X, y, test_size=split)\n",
    "\n",
    "    return X, y, X_train, X_test, y_train, y_test\n",
    "\n",
    "def pre_process(dataset, split=0.2):\n",
    "    if dataset == \"happy\":\n",
    "        return happiness_pre_process(split=split)\n",
    "    elif dataset == \"mush\":\n",
    "        return mushroom_pre_process(split=split)\n",
    "    elif dataset == \"heart\":\n",
    "        return heart_pre_process(split=split)\n",
    "    elif dataset == \"adult\":\n",
    "        return adult_pre_process(split=split)"
   ]
  },
  {
   "cell_type": "code",
   "execution_count": 3,
   "metadata": {},
   "outputs": [],
   "source": [
    "heart_X, heart_y, heart_X_train, heart_X_test, heart_y_train, heart_y_test = heart_pre_process(split=0.2)\n",
    "\n",
    "mush_X, mush_y, mush_X_train, mush_X_test, mush_y_train, mush_y_test = mushroom_pre_process(split=0.2)\n",
    "\n",
    "adult_X, adult_y, adult_X_train, adult_X_test, adult_y_train, adult_y_test = adult_pre_process(split=0.5)"
   ]
  },
  {
   "cell_type": "markdown",
   "metadata": {},
   "source": [
    "### Classifiers and Functions"
   ]
  },
  {
   "cell_type": "code",
   "execution_count": 4,
   "metadata": {},
   "outputs": [],
   "source": [
    "# SVM\n",
    "def clf_SVM(param_grid):\n",
    "    return svm.SVC(C = param_grid[\"C\"],\n",
    "                   gamma=param_grid[\"gamma\"],\n",
    "                   kernel=param_grid[\"kernel\"],\n",
    "                   max_iter = 10000)\n",
    "\n",
    "# Logistic Regression\n",
    "def clf_log(param_grid):\n",
    "    return LogisticRegression(C = param_grid[\"C\"],\n",
    "                              penalty = param_grid[\"penalty\"],\n",
    "                              solver=\"liblinear\",\n",
    "                              max_iter = 10000)\n",
    "\n",
    "# Decision Tree\n",
    "def clf_tree(param_grid):\n",
    "    return DecisionTreeClassifier(criterion=param_grid[\"criterion\"],\n",
    "                                  max_depth=param_grid[\"max_depth\"])\n",
    "\n",
    "# Perceptron\n",
    "def clf_perc(param_grid):\n",
    "    return Perceptron(penalty=param_grid[\"penalty\"],\n",
    "                      alpha=param_grid[\"alpha\"],\n",
    "                      max_iter=param_grid[\"max_iter\"],\n",
    "                      tol=param_grid[\"tol\"],\n",
    "                      early_stopping=param_grid[\"early_stopping\"])\n",
    "\n",
    "# Multi-Layer Perceptron\n",
    "def clf_mlp(param_grid):\n",
    "    return MLPClassifier(activation=param_grid[\"activation\"],\n",
    "                      solver=param_grid[\"solver\"],\n",
    "                      hidden_layer_sizes=param_grid[\"hidden_layer_sizes\"],\n",
    "                      max_iter=param_grid[\"max_iter\"],\n",
    "                      tol=param_grid[\"tol\"],\n",
    "                      early_stopping=param_grid[\"early_stopping\"])\n",
    "\n",
    "# KNN\n",
    "def clf_knn(param_grid):\n",
    "    return KNeighborsClassifier(n_neighbors=param_grid[\"n_neighbors\"])\n",
    "\n",
    "# Random Forest\n",
    "def clf_rf(param_grid):\n",
    "    return RandomForestClassifier(bootstrap=param_grid[\"bootstrap\"],\n",
    "                                 max_depth=param_grid[\"max_depth\"],\n",
    "                                 max_features=param_grid[\"max_features\"],\n",
    "                                 min_samples_leaf=param_grid[\"min_samples_leaf\"],\n",
    "                                 min_samples_split=param_grid[\"min_samples_split\"],\n",
    "                                 n_estimators=param_grid[\"n_estimators\"])\n",
    "\n",
    "# General\n",
    "def clf(model, param_grid):\n",
    "    if model == \"svm\":\n",
    "        return clf_SVM(param_grid)\n",
    "    elif model==\"log\":\n",
    "        return clf_log(param_grid)\n",
    "    elif model==\"tree\":\n",
    "        return clf_tree(param_grid)\n",
    "    elif model==\"perc\":\n",
    "        return clf_perc(param_grid)\n",
    "    elif model==\"mlp\":\n",
    "        return clf_mlp(param_grid)\n",
    "    elif model==\"knn\":\n",
    "        return clf_knn(param_grid)\n",
    "    elif model==\"rf\":\n",
    "        return clf_rf(param_grid)\n",
    "    \n",
    "def train_model(classifier, X_train, y_train):\n",
    "    classifier.fit(X_train, y_train)\n",
    "\n",
    "def hyper_tune(X_train, y_train, estimator, param_grid, k_top=3):\n",
    "    grid_search = RandomizedSearchCV(estimator=estimator, param_distributions=param_grid, cv=10, n_iter=20, n_jobs=-1, verbose=10)\n",
    "    grid_search.fit(X_train, y_train)\n",
    "    results = pd.DataFrame(grid_search.cv_results_)\n",
    "    results.sort_values(by='rank_test_score', inplace=True)\n",
    "    out = []\n",
    "    [out.append(results.loc[i, 'params']) for i in range(k_top)]\n",
    "    print(f\"Best {k_top} params:\", out)\n",
    "    return out\n",
    "\n",
    "def evalModel(classifer, X_test, y_test):\n",
    "    y_pred = classifier.predict(X_test)\n",
    "    \n",
    "    accuracy= accuracy_score(y_test, y_pred)\n",
    "    precision = precision_score(y_test, y_pred, average=\"macro\")\n",
    "    recall = recall_score(y_test, y_pred, average=\"macro\")\n",
    "    f_score = f1_score(y_test, y_pred, average=\"macro\") \n",
    "    \n",
    "    return (accuracy, precision, recall, f_score)"
   ]
  },
  {
   "cell_type": "markdown",
   "metadata": {},
   "source": [
    "## Hyperparameter Tuning"
   ]
  },
  {
   "cell_type": "markdown",
   "metadata": {},
   "source": [
    "### SVM"
   ]
  },
  {
   "cell_type": "code",
   "execution_count": null,
   "metadata": {},
   "outputs": [],
   "source": [
    "svm_param_grid = {\n",
    "    \"C\" : [1, 10, 100, 1000, 10000],\n",
    "    \"gamma\" : [1e-6, 1e-5, 1e-4, 1e-3, 1e-2],\n",
    "    \"kernel\" : [\"linear\", \"rbf\"]\n",
    "}"
   ]
  },
  {
   "cell_type": "code",
   "execution_count": null,
   "metadata": {},
   "outputs": [],
   "source": [
    "# Mushroom SVM Tuning\n",
    "best_param_grid_mush = hyper_tune(mush_X_train, mush_y_train, svm.SVC(), svm_param_grid)\n",
    "\n",
    "with open('params/svm/best_param_grid_mush', 'w') as f:\n",
    "    json.dump(best_param_grid_mush, f)"
   ]
  },
  {
   "cell_type": "code",
   "execution_count": null,
   "metadata": {},
   "outputs": [],
   "source": [
    "# Heart SVM Tuning\n",
    "best_param_grid_heart = hyper_tune(heart_X_train, heart_y_train, svm.SVC(), svm_param_grid)\n",
    "\n",
    "with open('params/svm/best_param_grid_heart', 'w') as f:\n",
    "    json.dump(best_param_grid_heart, f)"
   ]
  },
  {
   "cell_type": "code",
   "execution_count": null,
   "metadata": {},
   "outputs": [],
   "source": [
    "# Adult SVM Tuning\n",
    "best_param_grid_adult = hyper_tune(adult_X_train, adult_y_train, svm.SVC(), svm_param_grid)\n",
    "\n",
    "with open('params/svm/best_param_grid_adult', 'w') as f:\n",
    "    json.dump(best_param_grid_adult, f)"
   ]
  },
  {
   "cell_type": "markdown",
   "metadata": {},
   "source": [
    "### Logistic Regression"
   ]
  },
  {
   "cell_type": "code",
   "execution_count": null,
   "metadata": {},
   "outputs": [],
   "source": [
    "log_param_grid = {\n",
    "    \"C\" : [1, 10, 100, 1000, 10000],\n",
    "    \"penalty\" : [\"l1\", \"l2\"],\n",
    "}"
   ]
  },
  {
   "cell_type": "code",
   "execution_count": null,
   "metadata": {},
   "outputs": [],
   "source": [
    "# Mushroom Logistic Regression Tuning\n",
    "best_param_grid_mush = hyper_tune(mush_X_train, mush_y_train, LogisticRegression(), log_param_grid)\n",
    "\n",
    "with open('params/log/best_param_grid_mush', 'w') as f:\n",
    "    json.dump(best_param_grid_mush, f)"
   ]
  },
  {
   "cell_type": "code",
   "execution_count": null,
   "metadata": {},
   "outputs": [],
   "source": [
    "# Heart Logistic Regression Tuning\n",
    "best_param_grid_heart = hyper_tune(heart_X_train, heart_y_train, LogisticRegression(), log_param_grid)\n",
    "\n",
    "with open('params/log/best_param_grid_heart', 'w') as f:\n",
    "    json.dump(best_param_grid_heart, f)"
   ]
  },
  {
   "cell_type": "code",
   "execution_count": null,
   "metadata": {},
   "outputs": [],
   "source": [
    "# Adult Logistic Regression Tuning\n",
    "best_param_grid_adult = hyper_tune(adult_X_train, adult_y_train, LogisticRegression(), log_param_grid)\n",
    "\n",
    "with open('params/log/best_param_grid_adult', 'w') as f:\n",
    "    json.dump(best_param_grid_adult, f)"
   ]
  },
  {
   "cell_type": "markdown",
   "metadata": {},
   "source": [
    "### Decision Tree"
   ]
  },
  {
   "cell_type": "code",
   "execution_count": null,
   "metadata": {},
   "outputs": [],
   "source": [
    "tree_param_grid = {\n",
    "    \"criterion\" : ['gini', 'entropy'],\n",
    "    \"max_depth\" : [4,6,8,12],\n",
    "}"
   ]
  },
  {
   "cell_type": "code",
   "execution_count": null,
   "metadata": {},
   "outputs": [],
   "source": [
    "# Mushroom Decision Tree Tuning\n",
    "best_param_grid_mush = hyper_tune(mush_X_train, mush_y_train, DecisionTreeClassifier(), tree_param_grid)\n",
    "\n",
    "with open('params/tree/best_param_grid_mush', 'w') as f:\n",
    "    json.dump(best_param_grid_mush, f)"
   ]
  },
  {
   "cell_type": "code",
   "execution_count": null,
   "metadata": {},
   "outputs": [],
   "source": [
    "# Heart Decision Tree Tuning\n",
    "best_param_grid_heart = hyper_tune(heart_X_train, heart_y_train, DecisionTreeClassifier(), tree_param_grid)\n",
    "\n",
    "with open('params/tree/best_param_grid_heart', 'w') as f:\n",
    "    json.dump(best_param_grid_heart, f)"
   ]
  },
  {
   "cell_type": "code",
   "execution_count": null,
   "metadata": {},
   "outputs": [],
   "source": [
    "# Adult Decision Tree Tuning\n",
    "best_param_grid_adult = hyper_tune(adult_X_train, adult_y_train, DecisionTreeClassifier(), tree_param_grid)\n",
    "\n",
    "with open('params/tree/best_param_grid_adult', 'w') as f:\n",
    "    json.dump(best_param_grid_adult, f)"
   ]
  },
  {
   "cell_type": "markdown",
   "metadata": {},
   "source": [
    "### Perceptron"
   ]
  },
  {
   "cell_type": "code",
   "execution_count": null,
   "metadata": {},
   "outputs": [],
   "source": [
    "perc_param_grid = {\n",
    "    \"penalty\" : [None, \"l1\", \"l2\", \"elasticnet\"],\n",
    "    \"alpha\" : [0.001, 0.0001, 0.00001],\n",
    "    \"max_iter\" : [500, 1000, 2000],\n",
    "    \"tol\" : [1e-4, 1e-3, 1e-2],\n",
    "    \"early_stopping\" : [True, False]\n",
    "}"
   ]
  },
  {
   "cell_type": "code",
   "execution_count": null,
   "metadata": {},
   "outputs": [],
   "source": [
    "# Mushroom Perceptron Tuning\n",
    "best_param_grid_mush = hyper_tune(mush_X_train, mush_y_train, Perceptron(), perc_param_grid)\n",
    "\n",
    "with open('params/perc/best_param_grid_mush', 'w') as f:\n",
    "    json.dump(best_param_grid_mush, f)"
   ]
  },
  {
   "cell_type": "code",
   "execution_count": null,
   "metadata": {},
   "outputs": [],
   "source": [
    "# Heart Perceptron Tuning\n",
    "best_param_grid_heart = hyper_tune(heart_X_train, heart_y_train, Perceptron(), perc_param_grid)\n",
    "\n",
    "with open('params/perc/best_param_grid_heart', 'w') as f:\n",
    "    json.dump(best_param_grid_heart, f)"
   ]
  },
  {
   "cell_type": "code",
   "execution_count": null,
   "metadata": {},
   "outputs": [],
   "source": [
    "# Adult Perceptron Tuning\n",
    "best_param_grid_adult = hyper_tune(adult_X_train, adult_y_train, Perceptron(), perc_param_grid)\n",
    "\n",
    "with open('params/perc/best_param_grid_adult', 'w') as f:\n",
    "    json.dump(best_param_grid_adult, f)"
   ]
  },
  {
   "cell_type": "markdown",
   "metadata": {},
   "source": [
    "### Multi-Layer Perceptron"
   ]
  },
  {
   "cell_type": "code",
   "execution_count": null,
   "metadata": {},
   "outputs": [],
   "source": [
    "mlp_param_grid = {\n",
    "    \"hidden_layer_sizes\" : [(100,), (50,), (200,), (25,)],\n",
    "    \"activation\" : [\"identity\", \"logistic\", \"tanh\", \"relu\"],\n",
    "    \"solver\" : [\"lbfgs\", \"sgd\", \"adam\"],\n",
    "    \"max_iter\" : [200, 100, 300],\n",
    "    \"tol\" : [1e-4, 1e-3, 1e-5],\n",
    "    \"early_stopping\" : [True, False]\n",
    "}"
   ]
  },
  {
   "cell_type": "code",
   "execution_count": null,
   "metadata": {},
   "outputs": [],
   "source": [
    "# Mushroom Perceptron Tuning\n",
    "best_param_grid_mush = hyper_tune(mush_X_train, mush_y_train, MLPClassifier(), mlp_param_grid)\n",
    "\n",
    "with open('params/mlp/best_param_grid_mush', 'w') as f:\n",
    "    json.dump(best_param_grid_mush, f)"
   ]
  },
  {
   "cell_type": "code",
   "execution_count": null,
   "metadata": {},
   "outputs": [],
   "source": [
    "# Heart Perceptron Tuning\n",
    "best_param_grid_heart = hyper_tune(heart_X_train, heart_y_train, MLPClassifier(), mlp_param_grid)\n",
    "\n",
    "with open('params/mlp/best_param_grid_heart', 'w') as f:\n",
    "    json.dump(best_param_grid_heart, f)"
   ]
  },
  {
   "cell_type": "code",
   "execution_count": null,
   "metadata": {},
   "outputs": [],
   "source": [
    "# Adult Perceptron Tuning\n",
    "best_param_grid_adult = hyper_tune(adult_X_train, adult_y_train, MLPClassifier(), mlp_param_grid)\n",
    "\n",
    "with open('params/mlp/best_param_grid_adult', 'w') as f:\n",
    "    json.dump(best_param_grid_adult, f)"
   ]
  },
  {
   "cell_type": "markdown",
   "metadata": {},
   "source": [
    "### KNN"
   ]
  },
  {
   "cell_type": "code",
   "execution_count": null,
   "metadata": {},
   "outputs": [],
   "source": [
    "knn_param_grid = {\n",
    "    \"n_neighbors\" : [1, 3, 5, 9, 15, 25, 50, 75, 100],\n",
    "}"
   ]
  },
  {
   "cell_type": "code",
   "execution_count": null,
   "metadata": {},
   "outputs": [],
   "source": [
    "# Mushroom Decision Tree Tuning\n",
    "best_param_grid_mush = hyper_tune(mush_X_train, mush_y_train, KNeighborsClassifier(), knn_param_grid)\n",
    "\n",
    "with open('params/knn/best_param_grid_mush', 'w') as f:\n",
    "    json.dump(best_param_grid_mush, f)"
   ]
  },
  {
   "cell_type": "code",
   "execution_count": null,
   "metadata": {},
   "outputs": [],
   "source": [
    "# Heart Decision Tree Tuning\n",
    "best_param_grid_heart = hyper_tune(heart_X_train, heart_y_train, KNeighborsClassifier(), knn_param_grid)\n",
    "\n",
    "with open('params/knn/best_param_grid_heart', 'w') as f:\n",
    "    json.dump(best_param_grid_heart, f)"
   ]
  },
  {
   "cell_type": "code",
   "execution_count": null,
   "metadata": {},
   "outputs": [],
   "source": [
    "# Adult Decision Tree Tuning\n",
    "best_param_grid_adult = hyper_tune(adult_X_train, adult_y_train, KNeighborsClassifier(), knn_param_grid)\n",
    "\n",
    "with open('params/knn/best_param_grid_adult', 'w') as f:\n",
    "    json.dump(best_param_grid_adult, f)"
   ]
  },
  {
   "cell_type": "markdown",
   "metadata": {},
   "source": [
    "### Random Forest"
   ]
  },
  {
   "cell_type": "code",
   "execution_count": null,
   "metadata": {},
   "outputs": [],
   "source": [
    "rf_param_grid = {\n",
    "    'bootstrap': [True, False],\n",
    "    'max_depth': [10, 20, 30, 40, 50, 60, 70, 80, 90, 100, None],\n",
    "    'max_features': ['auto', 'sqrt'],\n",
    "    'min_samples_leaf': [1, 2, 4],\n",
    "    'min_samples_split': [2, 5, 10],\n",
    "    'n_estimators': [200, 400, 600, 800, 1000, 1200, 1400, 1600, 1800, 2000]\n",
    "}"
   ]
  },
  {
   "cell_type": "code",
   "execution_count": null,
   "metadata": {},
   "outputs": [],
   "source": [
    "# Mushroom Decision Tree Tuning\n",
    "best_param_grid_mush = hyper_tune(mush_X_train, mush_y_train, RandomForestClassifier(), rf_param_grid)\n",
    "\n",
    "with open('params/rf/best_param_grid_mush', 'w') as f:\n",
    "    json.dump(best_param_grid_mush, f)"
   ]
  },
  {
   "cell_type": "code",
   "execution_count": null,
   "metadata": {},
   "outputs": [],
   "source": [
    "# Heart Decision Tree Tuning\n",
    "best_param_grid_heart = hyper_tune(heart_X_train, heart_y_train, RandomForestClassifier(), rf_param_grid)\n",
    "\n",
    "with open('params/rf/best_param_grid_heart', 'w') as f:\n",
    "    json.dump(best_param_grid_heart, f)"
   ]
  },
  {
   "cell_type": "code",
   "execution_count": null,
   "metadata": {},
   "outputs": [],
   "source": [
    "# Adult Decision Tree Tuning\n",
    "best_param_grid_adult = hyper_tune(adult_X_train, adult_y_train, RandomForestClassifier(), rf_param_grid)\n",
    "\n",
    "with open('params/rf/best_param_grid_adult', 'w') as f:\n",
    "    json.dump(best_param_grid_adult, f)"
   ]
  },
  {
   "cell_type": "markdown",
   "metadata": {},
   "source": [
    "## Evaluate with best Params"
   ]
  },
  {
   "cell_type": "markdown",
   "metadata": {},
   "source": [
    "### SVM"
   ]
  },
  {
   "cell_type": "code",
   "execution_count": null,
   "metadata": {},
   "outputs": [],
   "source": [
    "with open('params/svm/best_param_grid_mush', 'r') as f:\n",
    "    best_param_grid_mush = json.load(f)\n",
    "    \n",
    "with open('params/svm/best_param_grid_heart', 'r') as f:\n",
    "    best_param_grid_heart = json.load(f)\n",
    "    \n",
    "with open('params/svm/best_param_grid_adult', 'r') as f:\n",
    "    best_param_grid_adult = json.load(f)"
   ]
  },
  {
   "cell_type": "code",
   "execution_count": null,
   "metadata": {},
   "outputs": [],
   "source": [
    "# Mushroom SVM\n",
    "for i in range(len(best_param_grid_mush)):\n",
    "    print(\"Best params:\", best_param_grid_mush[i], \"\\n\")\n",
    "    classifier = clf_SVM(best_param_grid_mush[i])\n",
    "    train_model(classifier, mush_X_train, mush_y_train)\n",
    "    acc, prec, rec, f = evalModel(classifier, mush_X_test, mush_y_test)\n",
    "    print(f\"Accuracy: {acc} \\nPrecision: {prec} \\nRecall: {rec} \\nF1 Score {f}\")"
   ]
  },
  {
   "cell_type": "code",
   "execution_count": null,
   "metadata": {},
   "outputs": [],
   "source": [
    "# Heart SVM\n",
    "for i in range(len(best_param_grid_heart)):\n",
    "    print(\"Best params:\", best_param_grid_heart[i], \"\\n\")\n",
    "    classifier = clf_SVM(best_param_grid_heart[i])\n",
    "    train_model(classifier, heart_X_train, heart_y_train)\n",
    "    acc, prec, rec, f = evalModel(classifier, heart_X_test, heart_y_test)\n",
    "    print(f\"Accuracy: {acc} \\nPrecision: {prec} \\nRecall: {rec} \\nF1 Score {f}\")"
   ]
  },
  {
   "cell_type": "code",
   "execution_count": null,
   "metadata": {},
   "outputs": [],
   "source": [
    "# Adult SVM\n",
    "for i in range(len(best_param_grid_adult)):\n",
    "    print(\"Best params:\", best_param_grid_adult[i], \"\\n\")\n",
    "    classifier = clf_SVM(best_param_grid_adult[i])\n",
    "    train_model(classifier, adult_X_train, adult_y_train)\n",
    "    acc, prec, rec, f = evalModel(classifier, adult_X_test, adult_y_test)\n",
    "    print(f\"Accuracy: {acc} \\nPrecision: {prec} \\nRecall: {rec} \\nF1 Score {f}\")"
   ]
  },
  {
   "cell_type": "markdown",
   "metadata": {},
   "source": [
    "### Logistic Regression"
   ]
  },
  {
   "cell_type": "code",
   "execution_count": null,
   "metadata": {},
   "outputs": [],
   "source": [
    "with open('params/log/best_param_grid_mush', 'r') as f:\n",
    "    best_param_grid_mush = json.load(f)\n",
    "    \n",
    "with open('params/log/best_param_grid_heart', 'r') as f:\n",
    "    best_param_grid_heart = json.load(f)\n",
    "    \n",
    "with open('params/log/best_param_grid_adult', 'r') as f:\n",
    "    best_param_grid_adult = json.load(f)"
   ]
  },
  {
   "cell_type": "code",
   "execution_count": null,
   "metadata": {},
   "outputs": [],
   "source": [
    "# Mushroom Logistic Regression Training/Eval\n",
    "for i in range(len(best_param_grid_mush)):\n",
    "    print(\"Best params:\", best_param_grid_mush[i], \"\\n\")\n",
    "    classifier = clf_log(best_param_grid_mush[i])\n",
    "    train_model(classifier, mush_X_train, mush_y_train)\n",
    "    acc, prec, rec, f = evalModel(classifier, mush_X_test, mush_y_test)\n",
    "    print(f\"Accuracy: {acc} \\nPrecision: {prec} \\nRecall: {rec} \\nF1 Score {f}\")"
   ]
  },
  {
   "cell_type": "code",
   "execution_count": null,
   "metadata": {},
   "outputs": [],
   "source": [
    "# Heart Logistic Regression Training/Eval\n",
    "for i in range(len(best_param_grid_heart)):\n",
    "    print(\"Best params:\", best_param_grid_heart[i], \"\\n\")\n",
    "    classifier = clf_log(best_param_grid_heart[i])\n",
    "    train_model(classifier, heart_X_train, heart_y_train)\n",
    "    acc, prec, rec, f = evalModel(classifier, heart_X_test, heart_y_test)\n",
    "    print(f\"Accuracy: {acc} \\nPrecision: {prec} \\nRecall: {rec} \\nF1 Score {f}\")"
   ]
  },
  {
   "cell_type": "code",
   "execution_count": null,
   "metadata": {},
   "outputs": [],
   "source": [
    "# Adult Logistic Regression Training/Eval\n",
    "for i in range(len(best_param_grid_adult)):\n",
    "    print(\"Best params:\", best_param_grid_adult[i], \"\\n\")\n",
    "    classifier = clf_log(best_param_grid_adult[i])\n",
    "    train_model(classifier, adult_X_train, adult_y_train)\n",
    "    acc, prec, rec, f = evalModel(classifier, adult_X_test, adult_y_test)\n",
    "    print(f\"Accuracy: {acc} \\nPrecision: {prec} \\nRecall: {rec} \\nF1 Score {f}\")"
   ]
  },
  {
   "cell_type": "markdown",
   "metadata": {},
   "source": [
    "### Decision Tree"
   ]
  },
  {
   "cell_type": "code",
   "execution_count": null,
   "metadata": {},
   "outputs": [],
   "source": [
    "with open('params/tree/best_param_grid_mush', 'r') as f:\n",
    "    best_param_grid_mush = json.load(f)\n",
    "    \n",
    "with open('params/tree/best_param_grid_heart', 'r') as f:\n",
    "    best_param_grid_heart = json.load(f)\n",
    "    \n",
    "with open('params/tree/best_param_grid_adult', 'r') as f:\n",
    "    best_param_grid_adult = json.load(f)"
   ]
  },
  {
   "cell_type": "code",
   "execution_count": null,
   "metadata": {},
   "outputs": [],
   "source": [
    "# Mushroom Decision Tree Training/Eval\n",
    "for i in range(len(best_param_grid_mush)):\n",
    "    print(\"Best params:\", best_param_grid_mush[i], \"\\n\")\n",
    "    classifier = clf_tree(best_param_grid_mush[i])\n",
    "    train_model(classifier, mush_X_train, mush_y_train)\n",
    "    acc, prec, rec, f = evalModel(classifier, mush_X_test, mush_y_test)\n",
    "    print(f\"Accuracy: {acc} \\nPrecision: {prec} \\nRecall: {rec} \\nF1 Score {f}\")"
   ]
  },
  {
   "cell_type": "code",
   "execution_count": null,
   "metadata": {},
   "outputs": [],
   "source": [
    "# Heart Decision Tree Training/Eval\n",
    "for i in range(len(best_param_grid_heart)):\n",
    "    print(\"Best params:\", best_param_grid_heart[i], \"\\n\")\n",
    "    classifier = clf_tree(best_param_grid_heart[i])\n",
    "    train_model(classifier, heart_X_train, heart_y_train)\n",
    "    acc, prec, rec, f = evalModel(classifier, heart_X_test, heart_y_test)\n",
    "    print(f\"Accuracy: {acc} \\nPrecision: {prec} \\nRecall: {rec} \\nF1 Score {f}\")"
   ]
  },
  {
   "cell_type": "code",
   "execution_count": null,
   "metadata": {},
   "outputs": [],
   "source": [
    "# Adult Decision Tree Training/Eval\n",
    "for i in range(len(best_param_grid_adult)):\n",
    "    print(\"Best params:\", best_param_grid_adult[i], \"\\n\")\n",
    "    classifier = clf_tree(best_param_grid_adult[i])\n",
    "    train_model(classifier, adult_X_train, adult_y_train)\n",
    "    acc, prec, rec, f = evalModel(classifier, adult_X_test, adult_y_test)\n",
    "    print(f\"Accuracy: {acc} \\nPrecision: {prec} \\nRecall: {rec} \\nF1 Score {f}\")"
   ]
  },
  {
   "cell_type": "markdown",
   "metadata": {},
   "source": [
    "### Perceptron"
   ]
  },
  {
   "cell_type": "code",
   "execution_count": null,
   "metadata": {},
   "outputs": [],
   "source": [
    "with open('params/perc/best_param_grid_mush', 'r') as f:\n",
    "    best_param_grid_mush = json.load(f)\n",
    "    \n",
    "with open('params/perc/best_param_grid_heart', 'r') as f:\n",
    "    best_param_grid_heart = json.load(f)\n",
    "    \n",
    "with open('params/perc/best_param_grid_adult', 'r') as f:\n",
    "    best_param_grid_adult = json.load(f)"
   ]
  },
  {
   "cell_type": "code",
   "execution_count": null,
   "metadata": {},
   "outputs": [],
   "source": [
    "# Mushroom Decision Tree Training/Eval\n",
    "for i in range(len(best_param_grid_mush)):\n",
    "    print(\"Best params:\", best_param_grid_mush[i], \"\\n\")\n",
    "    classifier = clf_perc(best_param_grid_mush[i])\n",
    "    train_model(classifier, mush_X_train, mush_y_train)\n",
    "    acc, prec, rec, f = evalModel(classifier, mush_X_test, mush_y_test)\n",
    "    print(f\"Accuracy: {acc} \\nPrecision: {prec} \\nRecall: {rec} \\nF1 Score {f}\")"
   ]
  },
  {
   "cell_type": "code",
   "execution_count": null,
   "metadata": {},
   "outputs": [],
   "source": [
    "# Heart Decision Tree Training/Eval\n",
    "for i in range(len(best_param_grid_heart)):\n",
    "    print(\"Best params:\", best_param_grid_heart[i], \"\\n\")\n",
    "    classifier = clf_perc(best_param_grid_heart[i])\n",
    "    train_model(classifier, heart_X_train, heart_y_train)\n",
    "    acc, prec, rec, f = evalModel(classifier, heart_X_test, heart_y_test)\n",
    "    print(f\"Accuracy: {acc} \\nPrecision: {prec} \\nRecall: {rec} \\nF1 Score {f}\")"
   ]
  },
  {
   "cell_type": "code",
   "execution_count": null,
   "metadata": {},
   "outputs": [],
   "source": [
    "# Adult Perceptron Training/Eval\n",
    "for i in range(len(best_param_grid_adult)):\n",
    "    print(\"Best params:\", best_param_grid_adult[i], \"\\n\")\n",
    "    classifier = clf_perc(best_param_grid_adult[i])\n",
    "    train_model(classifier, adult_X_train, adult_y_train)\n",
    "    acc, prec, rec, f = evalModel(classifier, adult_X_test, adult_y_test)\n",
    "    print(f\"Accuracy: {acc} \\nPrecision: {prec} \\nRecall: {rec} \\nF1 Score {f}\")"
   ]
  },
  {
   "cell_type": "markdown",
   "metadata": {},
   "source": [
    "### Multi-Layer Perceptron"
   ]
  },
  {
   "cell_type": "code",
   "execution_count": null,
   "metadata": {},
   "outputs": [],
   "source": [
    "with open('params/mlp/best_param_grid_mush', 'r') as f:\n",
    "    best_param_grid_mush = json.load(f)\n",
    "    \n",
    "with open('params/mlp/best_param_grid_heart', 'r') as f:\n",
    "    best_param_grid_heart = json.load(f)\n",
    "    \n",
    "with open('params/mlp/best_param_grid_adult', 'r') as f:\n",
    "    best_param_grid_adult = json.load(f)"
   ]
  },
  {
   "cell_type": "code",
   "execution_count": null,
   "metadata": {},
   "outputs": [],
   "source": [
    "# Mushroom MLP Training/Eval\n",
    "for i in range(len(best_param_grid_mush)):\n",
    "    print(\"Best params:\", best_param_grid_mush[i], \"\\n\")\n",
    "    classifier = clf_mlp(best_param_grid_mush[i])\n",
    "    train_model(classifier, mush_X_train, mush_y_train)\n",
    "    acc, prec, rec, f = evalModel(classifier, mush_X_test, mush_y_test)\n",
    "    print(f\"Accuracy: {acc} \\nPrecision: {prec} \\nRecall: {rec} \\nF1 Score {f}\")"
   ]
  },
  {
   "cell_type": "code",
   "execution_count": null,
   "metadata": {},
   "outputs": [],
   "source": [
    "# Heart MLP Training/Eval\n",
    "for i in range(len(best_param_grid_heart)):\n",
    "    print(\"Best params:\", best_param_grid_heart[i], \"\\n\")\n",
    "    classifier = clf_mlp(best_param_grid_heart[i])\n",
    "    train_model(classifier, heart_X_train, heart_y_train)\n",
    "    acc, prec, rec, f = evalModel(classifier, heart_X_test, heart_y_test)\n",
    "    print(f\"Accuracy: {acc} \\nPrecision: {prec} \\nRecall: {rec} \\nF1 Score {f}\")"
   ]
  },
  {
   "cell_type": "code",
   "execution_count": null,
   "metadata": {},
   "outputs": [],
   "source": [
    "# Adult MLP Training/Eval\n",
    "for i in range(len(best_param_grid_adult)):\n",
    "    print(\"Best params:\", best_param_grid_adult[i], \"\\n\")\n",
    "    classifier = clf_mlp(best_param_grid_adult[i])\n",
    "    train_model(classifier, adult_X_train, adult_y_train)\n",
    "    acc, prec, rec, f = evalModel(classifier, adult_X_test, adult_y_test)\n",
    "    print(f\"Accuracy: {acc} \\nPrecision: {prec} \\nRecall: {rec} \\nF1 Score {f}\")"
   ]
  },
  {
   "cell_type": "markdown",
   "metadata": {},
   "source": [
    "### KNN"
   ]
  },
  {
   "cell_type": "code",
   "execution_count": null,
   "metadata": {},
   "outputs": [],
   "source": [
    "with open('params/knn/best_param_grid_mush', 'r') as f:\n",
    "    best_param_grid_mush = json.load(f)\n",
    "    \n",
    "with open('params/knn/best_param_grid_heart', 'r') as f:\n",
    "    best_param_grid_heart = json.load(f)\n",
    "    \n",
    "with open('params/knn/best_param_grid_adult', 'r') as f:\n",
    "    best_param_grid_adult = json.load(f)"
   ]
  },
  {
   "cell_type": "code",
   "execution_count": null,
   "metadata": {},
   "outputs": [],
   "source": [
    "# Mushroom KNN Training/Eval\n",
    "for i in range(len(best_param_grid_mush)):\n",
    "    print(\"Best params:\", best_param_grid_mush[i], \"\\n\")\n",
    "    classifier = clf_knn(best_param_grid_mush[i])\n",
    "    train_model(classifier, mush_X_train, mush_y_train)\n",
    "    acc, prec, rec, f = evalModel(classifier, mush_X_test, mush_y_test)\n",
    "    print(f\"Accuracy: {acc} \\nPrecision: {prec} \\nRecall: {rec} \\nF1 Score {f}\")"
   ]
  },
  {
   "cell_type": "code",
   "execution_count": null,
   "metadata": {},
   "outputs": [],
   "source": [
    "# Heart KNN Training/Eval\n",
    "for i in range(len(best_param_grid_heart)):\n",
    "    print(\"Best params:\", best_param_grid_heart[i], \"\\n\")\n",
    "    classifier = clf_knn(best_param_grid_heart[i])\n",
    "    train_model(classifier, heart_X_train, heart_y_train)\n",
    "    acc, prec, rec, f = evalModel(classifier, heart_X_test, heart_y_test)\n",
    "    print(f\"Accuracy: {acc} \\nPrecision: {prec} \\nRecall: {rec} \\nF1 Score {f}\")"
   ]
  },
  {
   "cell_type": "code",
   "execution_count": null,
   "metadata": {},
   "outputs": [],
   "source": [
    "# Adult KNN Training/Eval\n",
    "for i in range(len(best_param_grid_adult)):\n",
    "    print(\"Best params:\", best_param_grid_adult[i], \"\\n\")\n",
    "    classifier = clf_knn(best_param_grid_adult[i])\n",
    "    train_model(classifier, adult_X_train, adult_y_train)\n",
    "    acc, prec, rec, f = evalModel(classifier, adult_X_test, adult_y_test)\n",
    "    print(f\"Accuracy: {acc} \\nPrecision: {prec} \\nRecall: {rec} \\nF1 Score {f}\")"
   ]
  },
  {
   "cell_type": "markdown",
   "metadata": {},
   "source": [
    "### Random Forest"
   ]
  },
  {
   "cell_type": "code",
   "execution_count": null,
   "metadata": {},
   "outputs": [],
   "source": [
    "with open('params/rf/best_param_grid_mush', 'r') as f:\n",
    "    best_param_grid_mush = json.load(f)\n",
    "    \n",
    "with open('params/rf/best_param_grid_heart', 'r') as f:\n",
    "    best_param_grid_heart = json.load(f)\n",
    "    \n",
    "with open('params/rf/best_param_grid_adult', 'r') as f:\n",
    "    best_param_grid_adult = json.load(f)"
   ]
  },
  {
   "cell_type": "code",
   "execution_count": null,
   "metadata": {},
   "outputs": [],
   "source": [
    "# Mushroom RF Training/Eval\n",
    "for i in range(len(best_param_grid_mush)):\n",
    "    print(\"Best params:\", best_param_grid_mush[i], \"\\n\")\n",
    "    classifier = clf_rf(best_param_grid_mush[i])\n",
    "    train_model(classifier, mush_X_train, mush_y_train)\n",
    "    acc, prec, rec, f = evalModel(classifier, mush_X_test, mush_y_test)\n",
    "    print(f\"Accuracy: {acc} \\nPrecision: {prec} \\nRecall: {rec} \\nF1 Score {f}\")"
   ]
  },
  {
   "cell_type": "code",
   "execution_count": null,
   "metadata": {},
   "outputs": [],
   "source": [
    "# Heart RF Training/Eval\n",
    "for i in range(len(best_param_grid_heart)):\n",
    "    print(\"Best params:\", best_param_grid_heart[i], \"\\n\")\n",
    "    classifier = clf_rf(best_param_grid_heart[i])\n",
    "    train_model(classifier, heart_X_train, heart_y_train)\n",
    "    acc, prec, rec, f = evalModel(classifier, heart_X_test, heart_y_test)\n",
    "    print(f\"Accuracy: {acc} \\nPrecision: {prec} \\nRecall: {rec} \\nF1 Score {f}\")"
   ]
  },
  {
   "cell_type": "code",
   "execution_count": null,
   "metadata": {},
   "outputs": [],
   "source": [
    "# Adult RF Training/Eval\n",
    "for i in range(len(best_param_grid_adult)):\n",
    "    print(\"Best params:\", best_param_grid_adult[i], \"\\n\")\n",
    "    classifier = clf_rf(best_param_grid_adult[i])\n",
    "    train_model(classifier, adult_X_train, adult_y_train)\n",
    "    acc, prec, rec, f = evalModel(classifier, adult_X_test, adult_y_test)\n",
    "    print(f\"Accuracy: {acc} \\nPrecision: {prec} \\nRecall: {rec} \\nF1 Score {f}\")"
   ]
  },
  {
   "cell_type": "markdown",
   "metadata": {},
   "source": [
    "## Evaluation Pipeline"
   ]
  },
  {
   "cell_type": "markdown",
   "metadata": {},
   "source": [
    "- 3 trials\n",
    "    - 3 datasets\n",
    "        - 4 models\n",
    "            - 3 splits (80/20, 20/80, 50/50)    "
   ]
  },
  {
   "cell_type": "code",
   "execution_count": 7,
   "metadata": {},
   "outputs": [],
   "source": [
    "num_trials = 3\n",
    "datasets = ['adult', 'mush', 'heart']\n",
    "splits = [0.2, 0.8]\n",
    "models = ['log', 'svm', 'tree', 'perc', 'mlp', 'knn', 'rf']"
   ]
  },
  {
   "cell_type": "code",
   "execution_count": null,
   "metadata": {},
   "outputs": [],
   "source": [
    "\"\"\"\n",
    "For i in three different datasets\n",
    "   For j in three different partitions (20/80,50/50,80/20):\n",
    "        For t in three different trials\n",
    "            For c in three different classifiers\n",
    "                 cross validate\n",
    "                 find the optimal hyper-parameter\n",
    "                 train using the hyper-parameter above\n",
    "                 obtain the training and validation accuracy/error\n",
    "                 test\n",
    "                 obtain the testing accuracy\n",
    "       compute the averaged accuracy (training, validation, and testing) for each classifier c out of three trials\n",
    "       rank order the classifiers\n",
    "\"\"\";"
   ]
  },
  {
   "cell_type": "code",
   "execution_count": null,
   "metadata": {},
   "outputs": [],
   "source": [
    "# Loop through datasets\n",
    "dataset_scores = {}\n",
    "for dataset in datasets:\n",
    "    \n",
    "    # Loop through dataset splits\n",
    "    split_scores = {}\n",
    "    for split in splits:\n",
    "\n",
    "        # Prepare data splits\n",
    "        X, y, X_train, X_test, y_train, y_test = pre_process(dataset=dataset, split=split)\n",
    "        \n",
    "        # Loop through trials\n",
    "        trial_scores = {}\n",
    "        for i in range(num_trials):\n",
    "            \n",
    "            # Loop through models\n",
    "            model_scores = {}\n",
    "            for model in models:\n",
    "                \n",
    "                # Load best model params for given model and dataset\n",
    "                with open(f'params/{model}/best_param_grid_{dataset}', 'r') as f:\n",
    "                    best_param_grid = json.load(f)\n",
    "    \n",
    "                    # Create classifier\n",
    "                    classifier = clf(model=model, param_grid=best_param_grid[i])\n",
    "\n",
    "                    # Train classifier\n",
    "                    print(f\"Training {dataset}-{split}-{i}-{model}\")\n",
    "                    train_model(classifier, X_train, y_train)\n",
    "\n",
    "                    # Evaluate classifier\n",
    "                    print(f\"Evaluating {dataset}-{split}-{i}-{model}\")\n",
    "                    acc, prec, rec, f = evalModel(classifier, X_test, y_test)\n",
    "                    test = {\"accuracy\" : acc, \"precision\": prec, \"recall\" : rec, \"f1_score\" : f}  \n",
    "                    acc, prec, rec, f = evalModel(classifier, X_train, y_train)\n",
    "                    train = {\"accuracy\" : acc, \"precision\": prec, \"recall\" : rec, \"f1_score\" : f} \n",
    "                    \n",
    "                    classifier_eval = {\"train\" : train, \"test\" : test}\n",
    "                    \n",
    "                # Add evaluation scores for given model\n",
    "                model_scores.update({f\"model_{model}\" : classifier_eval})\n",
    "                \n",
    "            # Add model scores for given trial\n",
    "            trial_scores.update({f\"trial_{i}\" : model_scores})\n",
    "\n",
    "        # Add trial scores for given model\n",
    "        split_scores.update({f\"split_{split}\": trial_scores})\n",
    "\n",
    "    # Add split scores for given dataset\n",
    "    dataset_scores.update({f\"data_{dataset}\": split_scores})\n",
    "    \n",
    "with open('scores/dataset_scores', 'w') as f:\n",
    "    json.dump(dataset_scores, f)"
   ]
  },
  {
   "cell_type": "markdown",
   "metadata": {},
   "source": [
    "## Dataset Results"
   ]
  },
  {
   "cell_type": "code",
   "execution_count": 8,
   "metadata": {},
   "outputs": [],
   "source": [
    "with open('scores/dataset_scores', 'r') as f:\n",
    "    dataset_scores = json.load(f)"
   ]
  },
  {
   "cell_type": "code",
   "execution_count": 9,
   "metadata": {},
   "outputs": [],
   "source": [
    "def data_table(_split_name, _model_name, dataset_scores=dataset_scores, models=models):\n",
    "    # Init empty lists to gather data\n",
    "    adult_train_acc = []\n",
    "    adult_test_acc = []\n",
    "    adult_train_f1 = []\n",
    "    adult_test_f1 = []\n",
    "    \n",
    "    heart_train_acc = []\n",
    "    heart_test_acc = []\n",
    "    heart_train_f1 = []\n",
    "    heart_test_f1 = []\n",
    "    \n",
    "    mush_train_acc = []\n",
    "    mush_test_acc = []\n",
    "    mush_train_f1 = []\n",
    "    mush_test_f1 = []\n",
    "    \n",
    "    # Loop through all datasets, trials, splits, etc and add data\n",
    "    # to empty lists\n",
    "    for dataset_name, dataset_data in dataset_scores.items():\n",
    "        for trial_name, trial_data in dataset_data[_split_name].items():\n",
    "            if dataset_name == \"data_adult\":\n",
    "                adult_train_acc.append(trial_data[_model_name][\"train\"][\"accuracy\"])\n",
    "                adult_test_acc.append(trial_data[_model_name][\"test\"][\"accuracy\"])\n",
    "                adult_train_f1.append(trial_data[_model_name][\"train\"][\"f1_score\"])\n",
    "                adult_test_f1.append(trial_data[_model_name][\"test\"][\"f1_score\"])\n",
    "            elif dataset_name == \"data_mush\":\n",
    "                mush_train_acc.append(trial_data[_model_name][\"train\"][\"accuracy\"])\n",
    "                mush_test_acc.append(trial_data[_model_name][\"test\"][\"accuracy\"])\n",
    "                mush_train_f1.append(trial_data[_model_name][\"train\"][\"f1_score\"])\n",
    "                mush_test_f1.append(trial_data[_model_name][\"test\"][\"f1_score\"])\n",
    "            elif dataset_name == \"data_heart\":\n",
    "                heart_train_acc.append(trial_data[_model_name][\"train\"][\"accuracy\"])\n",
    "                heart_test_acc.append(trial_data[_model_name][\"test\"][\"accuracy\"])\n",
    "                heart_train_f1.append(trial_data[_model_name][\"train\"][\"f1_score\"])\n",
    "                heart_test_f1.append(trial_data[_model_name][\"test\"][\"f1_score\"])\n",
    "    \n",
    "    # Convert lists to numpy arrays for computations (mean, std)\n",
    "    adult_train_acc = np.asarray(adult_train_acc)\n",
    "    adult_test_acc = np.asarray(adult_test_acc)\n",
    "    adult_train_f1 = np.asarray(adult_train_f1)\n",
    "    adult_test_f1 = np.asarray(adult_test_f1)\n",
    "    \n",
    "    heart_train_acc = np.asarray(heart_train_acc)\n",
    "    heart_test_acc = np.asarray(heart_test_acc)\n",
    "    heart_train_f1 = np.asarray(heart_train_f1)\n",
    "    heart_test_f1 = np.asarray(heart_test_f1)\n",
    "    \n",
    "    mush_train_acc = np.asarray(mush_train_acc)\n",
    "    mush_test_acc = np.asarray(mush_test_acc)\n",
    "    mush_train_f1 = np.asarray(mush_train_f1)\n",
    "    mush_test_f1 = np.asarray(mush_test_f1)\n",
    "    \n",
    "    # Display variable dictionaries\n",
    "    disp_split = {\n",
    "        \"split_0.2\" : \"20/80\",\n",
    "        \"split_0.8\" : \"80/20\"\n",
    "    }\n",
    "    \n",
    "    disp_model = {\n",
    "        'model_log': \"Logarithmic Regression\",\n",
    "        'model_svm': \"Support Vector Machine\",\n",
    "        'model_tree': \"Decision Tree\",\n",
    "        'model_perc': \"Perceptron\",\n",
    "        'model_mlp': \"Multi-Layer Perceptron\",\n",
    "        'model_knn': \"K-Nearest Neighbor\",\n",
    "        'model_rf': \"Random Forest\"\n",
    "    }\n",
    "    \n",
    "    # Create dataframe\n",
    "    df = pd.DataFrame([[\n",
    "        f\"{np.around(100 * adult_train_acc.mean(), decimals=2)} ± {np.around(100 * adult_train_acc.std(), decimals=2)}%\",\n",
    "        f\"{np.around(100 * adult_test_acc.mean(), decimals=2)} ± {np.around(100 * adult_test_acc.std(), decimals=2)}%\",\n",
    "        f\"{np.around(100 * mush_train_acc.mean(), decimals=2)} ± {np.around(100 * mush_train_acc.std(), decimals=2)}%\",\n",
    "        f\"{np.around(100 * mush_test_acc.mean(), decimals=2)} ± {np.around(100 * mush_test_acc.std(), decimals=2)}%\",\n",
    "        f\"{np.around(100 * heart_train_acc.mean(), decimals=2)} ± {np.around(100 * heart_train_acc.std(), decimals=2)}%\",\n",
    "        f\"{np.around(100 * heart_test_acc.mean(), decimals=2)} ± {np.around(100 * heart_test_acc.std(), decimals=2)}%\",\n",
    "    ]], columns=[f\"Adult Train Acc {disp_split[_split_name]}\",\n",
    "                 f\"Adult Test Acc {disp_split[_split_name]}\",\n",
    "                 f\"Mushroom Train Acc {disp_split[_split_name]}\",\n",
    "                 f\"Mushroom Test Acc {disp_split[_split_name]}\",\n",
    "                 f\"Heart Train Acc {disp_split[_split_name]}\",\n",
    "                 f\"Heart Test Acc {disp_split[_split_name]}\"])\n",
    "    df[f\"Avg Train Acc {disp_split[_split_name]}\"] = f\"{np.around(100 * np.array([adult_train_acc.mean(), mush_train_acc.mean(), heart_train_acc.mean()]).mean(), decimals=2)}%\"\n",
    "    \n",
    "    df[f\"Avg Test Acc {disp_split[_split_name]}\"] = f\"{np.around(100 * np.array([adult_test_acc.mean(), mush_test_acc.mean(), heart_test_acc.mean()]).mean(), decimals=2)}%\"\n",
    "    df = df.T\n",
    "    df.columns = [f\"{disp_model[_model_name]}\"]\n",
    "    return df.T"
   ]
  },
  {
   "cell_type": "markdown",
   "metadata": {},
   "source": [
    "### 20/80 Split"
   ]
  },
  {
   "cell_type": "code",
   "execution_count": 10,
   "metadata": {},
   "outputs": [
    {
     "data": {
      "text/html": [
       "<div>\n",
       "<style scoped>\n",
       "    .dataframe tbody tr th:only-of-type {\n",
       "        vertical-align: middle;\n",
       "    }\n",
       "\n",
       "    .dataframe tbody tr th {\n",
       "        vertical-align: top;\n",
       "    }\n",
       "\n",
       "    .dataframe thead th {\n",
       "        text-align: right;\n",
       "    }\n",
       "</style>\n",
       "<table border=\"1\" class=\"dataframe\">\n",
       "  <thead>\n",
       "    <tr style=\"text-align: right;\">\n",
       "      <th></th>\n",
       "      <th>Adult Train Acc 20/80</th>\n",
       "      <th>Adult Test Acc 20/80</th>\n",
       "      <th>Mushroom Train Acc 20/80</th>\n",
       "      <th>Mushroom Test Acc 20/80</th>\n",
       "      <th>Heart Train Acc 20/80</th>\n",
       "      <th>Heart Test Acc 20/80</th>\n",
       "      <th>Avg Train Acc 20/80</th>\n",
       "      <th>Avg Test Acc 20/80</th>\n",
       "    </tr>\n",
       "  </thead>\n",
       "  <tbody>\n",
       "    <tr>\n",
       "      <th>Multi-Layer Perceptron</th>\n",
       "      <td>99.99 ± 0.0%</td>\n",
       "      <td>99.96 ± 0.03%</td>\n",
       "      <td>99.98 ± 0.02%</td>\n",
       "      <td>100.0 ± 0.0%</td>\n",
       "      <td>89.12 ± 0.39%</td>\n",
       "      <td>71.04 ± 0.77%</td>\n",
       "      <td>96.37%</td>\n",
       "      <td>90.33%</td>\n",
       "    </tr>\n",
       "    <tr>\n",
       "      <th>Logarithmic Regression</th>\n",
       "      <td>100.0 ± 0.0%</td>\n",
       "      <td>100.0 ± 0.0%</td>\n",
       "      <td>100.0 ± 0.0%</td>\n",
       "      <td>100.0 ± 0.0%</td>\n",
       "      <td>88.84 ± 0.0%</td>\n",
       "      <td>70.49 ± 0.0%</td>\n",
       "      <td>96.28%</td>\n",
       "      <td>90.16%</td>\n",
       "    </tr>\n",
       "    <tr>\n",
       "      <th>Decision Tree</th>\n",
       "      <td>100.0 ± 0.0%</td>\n",
       "      <td>100.0 ± 0.0%</td>\n",
       "      <td>100.0 ± 0.0%</td>\n",
       "      <td>100.0 ± 0.0%</td>\n",
       "      <td>96.42 ± 3.46%</td>\n",
       "      <td>69.95 ± 2.04%</td>\n",
       "      <td>98.81%</td>\n",
       "      <td>89.98%</td>\n",
       "    </tr>\n",
       "    <tr>\n",
       "      <th>Perceptron</th>\n",
       "      <td>99.81 ± 0.19%</td>\n",
       "      <td>99.8 ± 0.19%</td>\n",
       "      <td>100.0 ± 0.0%</td>\n",
       "      <td>100.0 ± 0.0%</td>\n",
       "      <td>82.64 ± 1.55%</td>\n",
       "      <td>69.95 ± 2.04%</td>\n",
       "      <td>94.15%</td>\n",
       "      <td>89.91%</td>\n",
       "    </tr>\n",
       "    <tr>\n",
       "      <th>Support Vector Machine</th>\n",
       "      <td>100.0 ± 0.0%</td>\n",
       "      <td>99.99 ± 0.02%</td>\n",
       "      <td>97.06 ± 4.16%</td>\n",
       "      <td>97.19 ± 3.97%</td>\n",
       "      <td>92.29 ± 5.46%</td>\n",
       "      <td>69.95 ± 0.77%</td>\n",
       "      <td>96.45%</td>\n",
       "      <td>89.04%</td>\n",
       "    </tr>\n",
       "    <tr>\n",
       "      <th>Random Forest</th>\n",
       "      <td>98.01 ± 2.75%</td>\n",
       "      <td>97.69 ± 2.56%</td>\n",
       "      <td>100.0 ± 0.0%</td>\n",
       "      <td>100.0 ± 0.0%</td>\n",
       "      <td>96.14 ± 2.81%</td>\n",
       "      <td>68.85 ± 1.34%</td>\n",
       "      <td>98.05%</td>\n",
       "      <td>88.85%</td>\n",
       "    </tr>\n",
       "    <tr>\n",
       "      <th>K-Nearest Neighbor</th>\n",
       "      <td>98.37 ± 1.19%</td>\n",
       "      <td>95.93 ± 0.18%</td>\n",
       "      <td>100.0 ± 0.0%</td>\n",
       "      <td>100.0 ± 0.0%</td>\n",
       "      <td>92.98 ± 4.97%</td>\n",
       "      <td>70.49 ± 1.34%</td>\n",
       "      <td>97.12%</td>\n",
       "      <td>88.81%</td>\n",
       "    </tr>\n",
       "  </tbody>\n",
       "</table>\n",
       "</div>"
      ],
      "text/plain": [
       "                       Adult Train Acc 20/80 Adult Test Acc 20/80  \\\n",
       "Multi-Layer Perceptron          99.99 ± 0.0%        99.96 ± 0.03%   \n",
       "Logarithmic Regression          100.0 ± 0.0%         100.0 ± 0.0%   \n",
       "Decision Tree                   100.0 ± 0.0%         100.0 ± 0.0%   \n",
       "Perceptron                     99.81 ± 0.19%         99.8 ± 0.19%   \n",
       "Support Vector Machine          100.0 ± 0.0%        99.99 ± 0.02%   \n",
       "Random Forest                  98.01 ± 2.75%        97.69 ± 2.56%   \n",
       "K-Nearest Neighbor             98.37 ± 1.19%        95.93 ± 0.18%   \n",
       "\n",
       "                       Mushroom Train Acc 20/80 Mushroom Test Acc 20/80  \\\n",
       "Multi-Layer Perceptron            99.98 ± 0.02%            100.0 ± 0.0%   \n",
       "Logarithmic Regression             100.0 ± 0.0%            100.0 ± 0.0%   \n",
       "Decision Tree                      100.0 ± 0.0%            100.0 ± 0.0%   \n",
       "Perceptron                         100.0 ± 0.0%            100.0 ± 0.0%   \n",
       "Support Vector Machine            97.06 ± 4.16%           97.19 ± 3.97%   \n",
       "Random Forest                      100.0 ± 0.0%            100.0 ± 0.0%   \n",
       "K-Nearest Neighbor                 100.0 ± 0.0%            100.0 ± 0.0%   \n",
       "\n",
       "                       Heart Train Acc 20/80 Heart Test Acc 20/80  \\\n",
       "Multi-Layer Perceptron         89.12 ± 0.39%        71.04 ± 0.77%   \n",
       "Logarithmic Regression          88.84 ± 0.0%         70.49 ± 0.0%   \n",
       "Decision Tree                  96.42 ± 3.46%        69.95 ± 2.04%   \n",
       "Perceptron                     82.64 ± 1.55%        69.95 ± 2.04%   \n",
       "Support Vector Machine         92.29 ± 5.46%        69.95 ± 0.77%   \n",
       "Random Forest                  96.14 ± 2.81%        68.85 ± 1.34%   \n",
       "K-Nearest Neighbor             92.98 ± 4.97%        70.49 ± 1.34%   \n",
       "\n",
       "                       Avg Train Acc 20/80 Avg Test Acc 20/80  \n",
       "Multi-Layer Perceptron              96.37%             90.33%  \n",
       "Logarithmic Regression              96.28%             90.16%  \n",
       "Decision Tree                       98.81%             89.98%  \n",
       "Perceptron                          94.15%             89.91%  \n",
       "Support Vector Machine              96.45%             89.04%  \n",
       "Random Forest                       98.05%             88.85%  \n",
       "K-Nearest Neighbor                  97.12%             88.81%  "
      ]
     },
     "execution_count": 10,
     "metadata": {},
     "output_type": "execute_result"
    }
   ],
   "source": [
    "model_list = ['model_log', 'model_svm', 'model_tree', 'model_perc', 'model_mlp', 'model_knn','model_rf']\n",
    "data_tables = []\n",
    "for model in model_list:\n",
    "    data_tables.append(data_table(\"split_0.2\", model))\n",
    "data_table_split_02 = pd.concat(data_tables).sort_values(by=['Avg Test Acc 20/80'], ascending=False)\n",
    "data_table_split_02"
   ]
  },
  {
   "cell_type": "markdown",
   "metadata": {},
   "source": [
    "### 80/20 Split"
   ]
  },
  {
   "cell_type": "code",
   "execution_count": 11,
   "metadata": {},
   "outputs": [
    {
     "data": {
      "text/html": [
       "<div>\n",
       "<style scoped>\n",
       "    .dataframe tbody tr th:only-of-type {\n",
       "        vertical-align: middle;\n",
       "    }\n",
       "\n",
       "    .dataframe tbody tr th {\n",
       "        vertical-align: top;\n",
       "    }\n",
       "\n",
       "    .dataframe thead th {\n",
       "        text-align: right;\n",
       "    }\n",
       "</style>\n",
       "<table border=\"1\" class=\"dataframe\">\n",
       "  <thead>\n",
       "    <tr style=\"text-align: right;\">\n",
       "      <th></th>\n",
       "      <th>Adult Train Acc 80/20</th>\n",
       "      <th>Adult Test Acc 80/20</th>\n",
       "      <th>Mushroom Train Acc 80/20</th>\n",
       "      <th>Mushroom Test Acc 80/20</th>\n",
       "      <th>Heart Train Acc 80/20</th>\n",
       "      <th>Heart Test Acc 80/20</th>\n",
       "      <th>Avg Train Acc 80/20</th>\n",
       "      <th>Avg Test Acc 80/20</th>\n",
       "    </tr>\n",
       "  </thead>\n",
       "  <tbody>\n",
       "    <tr>\n",
       "      <th>Logarithmic Regression</th>\n",
       "      <td>100.0 ± 0.0%</td>\n",
       "      <td>100.0 ± 0.0%</td>\n",
       "      <td>100.0 ± 0.0%</td>\n",
       "      <td>99.97 ± 0.04%</td>\n",
       "      <td>100.0 ± 0.0%</td>\n",
       "      <td>82.03 ± 0.19%</td>\n",
       "      <td>100.0%</td>\n",
       "      <td>94.0%</td>\n",
       "    </tr>\n",
       "    <tr>\n",
       "      <th>Multi-Layer Perceptron</th>\n",
       "      <td>99.98 ± 0.01%</td>\n",
       "      <td>99.87 ± 0.09%</td>\n",
       "      <td>99.92 ± 0.12%</td>\n",
       "      <td>99.78 ± 0.21%</td>\n",
       "      <td>96.67 ± 2.72%</td>\n",
       "      <td>80.93 ± 1.18%</td>\n",
       "      <td>98.86%</td>\n",
       "      <td>93.53%</td>\n",
       "    </tr>\n",
       "    <tr>\n",
       "      <th>Perceptron</th>\n",
       "      <td>99.85 ± 0.12%</td>\n",
       "      <td>99.74 ± 0.09%</td>\n",
       "      <td>100.0 ± 0.0%</td>\n",
       "      <td>99.93 ± 0.03%</td>\n",
       "      <td>98.89 ± 0.79%</td>\n",
       "      <td>78.6 ± 2.67%</td>\n",
       "      <td>99.58%</td>\n",
       "      <td>92.76%</td>\n",
       "    </tr>\n",
       "    <tr>\n",
       "      <th>Random Forest</th>\n",
       "      <td>97.87 ± 2.64%</td>\n",
       "      <td>97.12 ± 2.48%</td>\n",
       "      <td>100.0 ± 0.0%</td>\n",
       "      <td>100.0 ± 0.0%</td>\n",
       "      <td>98.33 ± 2.36%</td>\n",
       "      <td>78.05 ± 1.27%</td>\n",
       "      <td>98.73%</td>\n",
       "      <td>91.72%</td>\n",
       "    </tr>\n",
       "    <tr>\n",
       "      <th>Decision Tree</th>\n",
       "      <td>100.0 ± 0.0%</td>\n",
       "      <td>100.0 ± 0.0%</td>\n",
       "      <td>100.0 ± 0.0%</td>\n",
       "      <td>100.0 ± 0.0%</td>\n",
       "      <td>99.44 ± 0.79%</td>\n",
       "      <td>73.66 ± 1.46%</td>\n",
       "      <td>99.81%</td>\n",
       "      <td>91.22%</td>\n",
       "    </tr>\n",
       "    <tr>\n",
       "      <th>K-Nearest Neighbor</th>\n",
       "      <td>97.51 ± 1.83%</td>\n",
       "      <td>94.16 ± 0.15%</td>\n",
       "      <td>99.96 ± 0.03%</td>\n",
       "      <td>99.9 ± 0.01%</td>\n",
       "      <td>96.11 ± 2.83%</td>\n",
       "      <td>78.05 ± 0.19%</td>\n",
       "      <td>97.86%</td>\n",
       "      <td>90.7%</td>\n",
       "    </tr>\n",
       "    <tr>\n",
       "      <th>Support Vector Machine</th>\n",
       "      <td>100.0 ± 0.0%</td>\n",
       "      <td>99.97 ± 0.05%</td>\n",
       "      <td>83.62 ± 23.16%</td>\n",
       "      <td>83.93 ± 22.56%</td>\n",
       "      <td>97.22 ± 3.93%</td>\n",
       "      <td>80.38 ± 1.03%</td>\n",
       "      <td>93.61%</td>\n",
       "      <td>88.09%</td>\n",
       "    </tr>\n",
       "  </tbody>\n",
       "</table>\n",
       "</div>"
      ],
      "text/plain": [
       "                       Adult Train Acc 80/20 Adult Test Acc 80/20  \\\n",
       "Logarithmic Regression          100.0 ± 0.0%         100.0 ± 0.0%   \n",
       "Multi-Layer Perceptron         99.98 ± 0.01%        99.87 ± 0.09%   \n",
       "Perceptron                     99.85 ± 0.12%        99.74 ± 0.09%   \n",
       "Random Forest                  97.87 ± 2.64%        97.12 ± 2.48%   \n",
       "Decision Tree                   100.0 ± 0.0%         100.0 ± 0.0%   \n",
       "K-Nearest Neighbor             97.51 ± 1.83%        94.16 ± 0.15%   \n",
       "Support Vector Machine          100.0 ± 0.0%        99.97 ± 0.05%   \n",
       "\n",
       "                       Mushroom Train Acc 80/20 Mushroom Test Acc 80/20  \\\n",
       "Logarithmic Regression             100.0 ± 0.0%           99.97 ± 0.04%   \n",
       "Multi-Layer Perceptron            99.92 ± 0.12%           99.78 ± 0.21%   \n",
       "Perceptron                         100.0 ± 0.0%           99.93 ± 0.03%   \n",
       "Random Forest                      100.0 ± 0.0%            100.0 ± 0.0%   \n",
       "Decision Tree                      100.0 ± 0.0%            100.0 ± 0.0%   \n",
       "K-Nearest Neighbor                99.96 ± 0.03%            99.9 ± 0.01%   \n",
       "Support Vector Machine           83.62 ± 23.16%          83.93 ± 22.56%   \n",
       "\n",
       "                       Heart Train Acc 80/20 Heart Test Acc 80/20  \\\n",
       "Logarithmic Regression          100.0 ± 0.0%        82.03 ± 0.19%   \n",
       "Multi-Layer Perceptron         96.67 ± 2.72%        80.93 ± 1.18%   \n",
       "Perceptron                     98.89 ± 0.79%         78.6 ± 2.67%   \n",
       "Random Forest                  98.33 ± 2.36%        78.05 ± 1.27%   \n",
       "Decision Tree                  99.44 ± 0.79%        73.66 ± 1.46%   \n",
       "K-Nearest Neighbor             96.11 ± 2.83%        78.05 ± 0.19%   \n",
       "Support Vector Machine         97.22 ± 3.93%        80.38 ± 1.03%   \n",
       "\n",
       "                       Avg Train Acc 80/20 Avg Test Acc 80/20  \n",
       "Logarithmic Regression              100.0%              94.0%  \n",
       "Multi-Layer Perceptron              98.86%             93.53%  \n",
       "Perceptron                          99.58%             92.76%  \n",
       "Random Forest                       98.73%             91.72%  \n",
       "Decision Tree                       99.81%             91.22%  \n",
       "K-Nearest Neighbor                  97.86%              90.7%  \n",
       "Support Vector Machine              93.61%             88.09%  "
      ]
     },
     "execution_count": 11,
     "metadata": {},
     "output_type": "execute_result"
    }
   ],
   "source": [
    "model_list = ['model_log', 'model_svm', 'model_tree', 'model_perc', 'model_mlp', 'model_knn','model_rf']\n",
    "data_tables = []\n",
    "for model in model_list:\n",
    "    data_tables.append(data_table(\"split_0.8\", model))\n",
    "data_table_split_08 = pd.concat(data_tables).sort_values(by=['Avg Test Acc 80/20'], ascending=False)\n",
    "data_table_split_08"
   ]
  },
  {
   "cell_type": "markdown",
   "metadata": {},
   "source": [
    "## Instructions"
   ]
  },
  {
   "cell_type": "markdown",
   "metadata": {},
   "source": [
    "Single person project and no team work.\n",
    "\n",
    "Report format:\n",
    "\n",
    "Write a report with >1,000 words (excluding references) including main sections: a) abstract, b) introduction, c) method, d) experiment, e) conclusion, and f) references. You can follow the paper format as e.g leading machine learning journals such as Journal of Machine Learning Research (http://www.jmlr.org/) or IEEE Trans. on Pattern Analysis and Machine Intelligence (http://www.computer.org/web/tpami), or leading conferences like NeurIPS (https://papers.nips.cc/) and ICML (https://icml.cc/). There is no page limit for your report.\n",
    "\n",
    "Bonus points: \n",
    "\n",
    "If you feel that your work deserves bonus points due to reasons such as: a) novel ideas and applications, b) large efforts in your own data collection/preparation, c) state-of-the-art classification results, or d) new algorithms, please create a \"Bonus Points\" section to specifically describe why you deserve bonus points.\n",
    "\n",
    "In this project you will choose any three classifiers out of those tested in\n",
    "\n",
    "\n",
    "We have been discussing the classification problem in the form of two-class classifiers throughout the class. Some classifiers like decision tree, KNN, random forests stay agnostic w.r.t the number of classes but others like SVM and Boosting where explicit objective functions are involved don't.\n",
    "\n",
    "\n",
    "\n",
    "The basic requirement for the final project is based on the two-class classification problem. If you have additional bandwidth, you can experiment on the multi-class classification setting. When preparing the dataset to train your classifier (two-class), please try to merge the labels into two groups, positives and negatives, if your dataset happens to consist multi-class labels.\n",
    "\n",
    "\n",
    "\n",
    "Train your classifiers using the setting (not all metrics are needed) described in the empirical study by Caruana and Niculescu-Mizil. You are supposed to reproduce consistent results as in the paper. However, do expect some small variations. When evaluating the algorithms, you don’t need to use all the metrics that were reported in the paper. Using one metric, e.g. the classification accuracy, is sufficient. Please report the cross-validated classification results with the corresponding learned hyper-parameters.\n",
    "\n",
    "Note that since you are choosing your own libraries for the classifiers, there are implementation details that will affect the classification results. Even the same SVM but with different implementations, you won't be able to see identical results when trained on the same dataset. Therefore, don't expect the identical results as those in the paper, as you are probably using a subset and not all the features. If you see a bit difference in ranking, it should ok but the overall trend should be consistent, e.g. random forest should do well, more training data leads to better results, knn is not necessarily very bad etc.\n",
    "\n",
    "If you compute accuracy and follow the basic requirement picking 3 classifiers and 3 datasets. You are looking at 3 trials X 3 classifiers X 3 datasets X 3 partitions (20/80, 50/50, 80/20). Each time you always report the best accuracy under the chosen hyper-parameter. Since for the accuracy is averaged among three 3 trials to rank order the classifiers, you will report 3 classifiers X 3 datasets X 3 partitions  (20/80, 50/50, 80/20)  X 3. accuracies (train, validation, test). When trying to debug, always try to see the training accuracy to see if you are able to at least push the training accuracy high (to overfit the data) as a sanity check making sure your implementation is correct. The heatmaps for your hyper-parameters are the details that do not need to be too carefully compared with. The searching for the hyper-parameters is internal and the final conclusion about the classifiers is based on the best hyper-parameter you have obtained for each time.\n",
    "\n",
    "Since the exact data setting might have changed, the specific parameters and hyper-parameters reported in Caruana and Niculescu-Mizil paper serve as a guideline but you don't need to try all of them. You can try a few standard ones, as long as your classification results are reasonable. If you pick the multi-layer perceptron as one of your classifiers, note that you may need to increase the number of layers to e.g. 3 and create more neurons in each layer to attain good results, for some datasets.\n",
    "\n",
    "You can alternatively or additionally adopt the datasets and classifiers reported in a follow-up paper, Caruana et al. ICML 2008.\n",
    " \n",
    "You are encouraged to use Python, but using other programming languages and platforms is ok. The candidate classifiers include:\n",
    "1. Boosting family classifiers\n",
    "http://www.mathworks.com/matlabcentral/fileexchange/21317-adaboost\n",
    "or\n",
    "https://github.com/dmlc/xgboost\n",
    "2. Support vector machines\n",
    "http://www.csie.ntu.edu.tw/~cjlin/libsvm/\n",
    "3. Random Forests\n",
    "http://www.stat.berkeley.edu/~breiman/RandomForests/\n",
    "4. Decision Tree\n",
    "http://www.rulequest.com/Personal/ (please see also see a sample matlab code in the attachment)\n",
    "5. K-nearest neighbors\n",
    "http://www.mathworks.com/matlabcentral/fileexchange/19345-efficient-k-nearest-neighbor-searchusing-jit\n",
    "6. Neural Nets\n",
    "http://www.cs.colostate.edu/~anderson/code/\n",
    "http://www.mathworks.com/products/neural-network/code-examples.html\n",
    "7. Logistic regression classifier\n",
    "8. Bagging family\n",
    "\n",
    "The links above are for your reference. You can implement your own classifier or download other\n",
    "versions you like online (But you need to make sure the code online is reliable). You are supposed to\n",
    "write a formal report describing about the experiments you run and the corresponding results (plus\n",
    "code).\n",
    "\n",
    "\n",
    "Grading\n",
    "Note that if you do well by satisfying the minimum requirement e.g. 3 classifiers on 3 datasets with cross-validation, you will receive a decent score but not the full 100 points. We are looking for something a bit more and please see the guideline below.\n",
    "\n",
    "When reporting the experimental results, there are two main sets of comparisons we are looking for:\n",
    "a. For each dataset on each paritition, show the comparison for different algorithms, and hopefully be consistent with the findings in the paper with Random Forests being the best etc.\n",
    "b. For each classifier on each partition, show the comparison on different partitions and you are supposed to show the increase of test accuracy (decrease of test error) with more training data and less test data.\n",
    "\n",
    "Note that the performance and function calls vary due to the particular ML libraries you are using. For example, the same SVM classifier provided in different toolboxes might result in different errors even trained on the same dataset. But the overall differences should be reasonable and interpretable. You may obtain a ranking that is somewhat different from that in the paper, due to differences in detailed implementation of the classifiers, different training sizes, features ect. But the overall trend should be explainable. For example, random forest usually has a pretty good performance; knn might not be as bad as you had thought, kernel-based SVM is sometimes sensitive to the hyper-parameters; using more data in training will lead to improvement, especially on difficult cases.\n",
    "\n",
    "The merit and grading of your project can be judged from aspects described below that are common\n",
    "when reviewing a paper:\n",
    "1. How challenging and large are the datasets you are studying? (10 points)\n",
    "2. Any aspects that are new in terms of algorithm development, uniqueness of the data, or new\n",
    "applications? (10 points)\n",
    "3. Is your experimental design comprehensive? Have you done thoroughly experiments in tuning\n",
    "hyper-parameters and performing cross validation (you should also try different data partitions, e.g 20% training and 80% testing, 50% training and 50% testing, and 80% training and 20% testing for multiple rounds, e.g. 3 times each for the above three partitions and compute average scores to remove potentials of having accidental results); try to report both the training and testing errors after cross-validation; it is encouraged to also report the training and validation errors during cross-validation using classification error/accuracy curves w.r.t. the hyper-parameters. (50 points)\n",
    "4. Is your report written in a professional way with sections including abstract, introduction, data\n",
    "and problem description, method description, experiments, conclusion, and references? (30\n",
    "points)\n",
    "5. Bonus points will be assigned to projects in which new ideas have been developed and implemented, or thorough experiments where extensive empirical studies have been carried out (e.g. evaluated on >=5 classifiers and >=4 datasets)."
   ]
  },
  {
   "cell_type": "markdown",
   "metadata": {},
   "source": [
    "### Links"
   ]
  },
  {
   "cell_type": "markdown",
   "metadata": {},
   "source": [
    "https://towardsdatascience.com/hyperparameter-tuning-the-random-forest-in-python-using-scikit-learn-28d2aa77dd74\n",
    "https://stackoverflow.com/questions/47793569/choosing-top-k-models-using-gridsearchcv-in-scikit-learn"
   ]
  },
  {
   "cell_type": "code",
   "execution_count": null,
   "metadata": {},
   "outputs": [],
   "source": []
  }
 ],
 "metadata": {
  "kernelspec": {
   "display_name": "Python 3",
   "language": "python",
   "name": "python3"
  },
  "language_info": {
   "codemirror_mode": {
    "name": "ipython",
    "version": 3
   },
   "file_extension": ".py",
   "mimetype": "text/x-python",
   "name": "python",
   "nbconvert_exporter": "python",
   "pygments_lexer": "ipython3",
   "version": "3.7.6"
  }
 },
 "nbformat": 4,
 "nbformat_minor": 4
}
