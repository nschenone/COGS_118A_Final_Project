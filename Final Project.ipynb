{
 "cells": [
  {
   "cell_type": "markdown",
   "metadata": {},
   "source": [
    "# Final Project\n",
    "## Nicholas Schenone - A13599911"
   ]
  },
  {
   "cell_type": "markdown",
   "metadata": {},
   "source": [
    "- 3 trials\n",
    "- 7 classifiers\n",
    "    - SVM\n",
    "    - Logistic Regression\n",
    "    - Decision Tree\n",
    "    - Perceptron\n",
    "    - Multilayer Perceptron\n",
    "    - KNN\n",
    "    - Random Forest\n",
    "- 3 datasets\n",
    "    - Heart Disease: https://www.kaggle.com/ronitf/heart-disease-uci\n",
    "    - Mushroom: https://archive.ics.uci.edu/ml/datasets/Mushroom\n",
    "    - Somerville Happiness Survey Data Set: https://archive.ics.uci.edu/ml/datasets/Somerville+Happiness+Survey\n",
    "- 3 partitions (20/80, 50/50, 80/20)\n",
    "- 3 accuracies per (train, validation, test)"
   ]
  },
  {
   "cell_type": "markdown",
   "metadata": {},
   "source": [
    "### Imports"
   ]
  },
  {
   "cell_type": "code",
   "execution_count": 1,
   "metadata": {},
   "outputs": [],
   "source": [
    "import pandas as pd\n",
    "import numpy as np\n",
    "\n",
    "from sklearn.model_selection import train_test_split, GridSearchCV, RandomizedSearchCV\n",
    "from sklearn.preprocessing import StandardScaler\n",
    "from sklearn import svm\n",
    "from sklearn.tree import DecisionTreeClassifier\n",
    "from sklearn.linear_model import Perceptron, LogisticRegression\n",
    "from sklearn.metrics import accuracy_score, f1_score, precision_score, recall_score, classification_report, confusion_matrix\n",
    "from sklearn.neural_network import MLPClassifier\n",
    "from sklearn.neighbors import KNeighborsClassifier\n",
    "from sklearn.ensemble import RandomForestClassifier\n",
    "\n",
    "import json\n",
    "\n",
    "import seaborn as sns"
   ]
  },
  {
   "cell_type": "markdown",
   "metadata": {},
   "source": [
    "### Pre-Process Data"
   ]
  },
  {
   "cell_type": "code",
   "execution_count": 2,
   "metadata": {},
   "outputs": [],
   "source": [
    "def adult_pre_process(data_path=\"data/adult/adult.csv\", split=0.2):\n",
    "    df_adult = pd.read_csv(data_path)\n",
    "    df_adult_one_hot = pd.get_dummies(df_adult);\n",
    "    \n",
    "    X = df_adult_one_hot.iloc[:,0 : len(df_adult_one_hot.columns) - 1]\n",
    "    X = StandardScaler().fit_transform(X)\n",
    "\n",
    "    y = df_adult_one_hot.iloc[:, len(df_adult_one_hot.columns) - 1]\n",
    "    y = y.values.ravel()\n",
    "\n",
    "    X_train, X_test, y_train, y_test = train_test_split(X, y, test_size=split)\n",
    "\n",
    "    return X, y, X_train, X_test, y_train, y_test"
   ]
  },
  {
   "cell_type": "code",
   "execution_count": 3,
   "metadata": {},
   "outputs": [],
   "source": [
    "def heart_pre_process(data_path=\"data/heart_disease/heart.csv\", split=0.2):\n",
    "    df_heart = pd.read_csv(data_path)\n",
    "    X = df_heart.iloc[:, 0 : len(df_heart.columns) - 1]\n",
    "    X = StandardScaler().fit_transform(X)\n",
    "\n",
    "    y = df_heart.iloc[:, len(df_heart.columns) - 1]\n",
    "    y = y.values.ravel()\n",
    "\n",
    "    X_train, X_test, y_train, y_test = train_test_split(X, y, test_size=split)\n",
    "\n",
    "    return X, y, X_train, X_test, y_train, y_test"
   ]
  },
  {
   "cell_type": "code",
   "execution_count": 4,
   "metadata": {},
   "outputs": [],
   "source": [
    "def mushroom_pre_process(data_path=\"data/mushroom/mushroom.csv\", split=0.2):\n",
    "    df_mushroom = pd.read_csv(data_path, header=None)\n",
    "    df_mush_one_hot = pd.get_dummies(df_mushroom);\n",
    "    \n",
    "    X = df_mush_one_hot.iloc[:,1:]\n",
    "    X = StandardScaler().fit_transform(X)\n",
    "\n",
    "    y = df_mush_one_hot.iloc[:, :1]\n",
    "    y = y.values.ravel()\n",
    "    \n",
    "    X_train, X_test, y_train, y_test = train_test_split(X, y, test_size=split)\n",
    "\n",
    "    return X, y, X_train, X_test, y_train, y_test"
   ]
  },
  {
   "cell_type": "code",
   "execution_count": 5,
   "metadata": {},
   "outputs": [],
   "source": [
    "def happiness_pre_process(data_path=\"data/happiness_survey/SomervilleHappinessSurvey2015.csv\", split=0.2):\n",
    "    df_happy = pd.read_csv(data_path, encoding = \"utf-16\")\n",
    "    df_happy_one_hot = pd.get_dummies(df_happy.astype(str));\n",
    "    \n",
    "    X = df_happy_one_hot.iloc[:,1:]\n",
    "    X = StandardScaler().fit_transform(X)\n",
    "\n",
    "    y = df_happy_one_hot.iloc[:, :1]\n",
    "    y = y.values.ravel()\n",
    "\n",
    "    X_train, X_test, y_train, y_test = train_test_split(X, y, test_size=split)\n",
    "\n",
    "    return X, y, X_train, X_test, y_train, y_test"
   ]
  },
  {
   "cell_type": "code",
   "execution_count": 6,
   "metadata": {},
   "outputs": [],
   "source": [
    "def pre_process(dataset, split=0.2):\n",
    "    if dataset == \"happy\":\n",
    "        return happiness_pre_process(split=split)\n",
    "    elif dataset == \"mush\":\n",
    "        return mushroom_pre_process(split=split)\n",
    "    elif dataset == \"heart\":\n",
    "        return heart_pre_process(split=split)"
   ]
  },
  {
   "cell_type": "code",
   "execution_count": 7,
   "metadata": {},
   "outputs": [],
   "source": [
    "heart_X, heart_y, heart_X_train, heart_X_test, heart_y_train, heart_y_test = heart_pre_process(split=0.2)"
   ]
  },
  {
   "cell_type": "code",
   "execution_count": 8,
   "metadata": {},
   "outputs": [],
   "source": [
    "mush_X, mush_y, mush_X_train, mush_X_test, mush_y_train, mush_y_test = mushroom_pre_process(split=0.2)"
   ]
  },
  {
   "cell_type": "code",
   "execution_count": 9,
   "metadata": {},
   "outputs": [],
   "source": [
    "happy_X, happy_y, happy_X_train, happy_X_test, happy_y_train, happy_y_test = happiness_pre_process(split=0.2)"
   ]
  },
  {
   "cell_type": "code",
   "execution_count": 10,
   "metadata": {},
   "outputs": [],
   "source": [
    "adult_X, adult_y, adult_X_train, adult_X_test, adult_y_train, adult_y_test = adult_pre_process(split=0.2)"
   ]
  },
  {
   "cell_type": "markdown",
   "metadata": {},
   "source": [
    "### SVM"
   ]
  },
  {
   "cell_type": "code",
   "execution_count": 11,
   "metadata": {},
   "outputs": [],
   "source": [
    "def clf_SVM(param_grid):\n",
    "    return svm.SVC(C = param_grid[\"C\"], gamma=param_grid[\"gamma\"], kernel=param_grid[\"kernel\"], max_iter = 10000)"
   ]
  },
  {
   "cell_type": "markdown",
   "metadata": {},
   "source": [
    "### Logistic Regression"
   ]
  },
  {
   "cell_type": "code",
   "execution_count": 12,
   "metadata": {},
   "outputs": [],
   "source": [
    "def clf_log(param_grid):\n",
    "    return LogisticRegression(C = param_grid[\"C\"], penalty = param_grid[\"penalty\"], solver=\"liblinear\", max_iter = 10000)"
   ]
  },
  {
   "cell_type": "markdown",
   "metadata": {},
   "source": [
    "### Decision Tree"
   ]
  },
  {
   "cell_type": "code",
   "execution_count": 13,
   "metadata": {},
   "outputs": [],
   "source": [
    "def clf_tree(param_grid):\n",
    "    return DecisionTreeClassifier(criterion=param_grid[\"criterion\"], max_depth=param_grid[\"max_depth\"])"
   ]
  },
  {
   "cell_type": "markdown",
   "metadata": {},
   "source": [
    "### Perceptron"
   ]
  },
  {
   "cell_type": "code",
   "execution_count": 14,
   "metadata": {},
   "outputs": [],
   "source": [
    "def clf_perc(param_grid):\n",
    "    return Perceptron(penalty=param_grid[\"penalty\"],\n",
    "                      alpha=param_grid[\"alpha\"],\n",
    "                      max_iter=param_grid[\"max_iter\"],\n",
    "                      tol=param_grid[\"tol\"],\n",
    "                      early_stopping=param_grid[\"early_stopping\"])"
   ]
  },
  {
   "cell_type": "markdown",
   "metadata": {},
   "source": [
    "### Multi-Layer Perceptron"
   ]
  },
  {
   "cell_type": "code",
   "execution_count": 15,
   "metadata": {},
   "outputs": [],
   "source": [
    "def clf_mlp(param_grid):\n",
    "    return MLPClassifier(activation=param_grid[\"activation\"],\n",
    "                      solver=param_grid[\"solver\"],\n",
    "                      hidden_layer_sizes=param_grid[\"hidden_layer_sizes\"],\n",
    "                      max_iter=param_grid[\"max_iter\"],\n",
    "                      tol=param_grid[\"tol\"],\n",
    "                      early_stopping=param_grid[\"early_stopping\"])"
   ]
  },
  {
   "cell_type": "markdown",
   "metadata": {},
   "source": [
    "### KNN"
   ]
  },
  {
   "cell_type": "code",
   "execution_count": 16,
   "metadata": {},
   "outputs": [],
   "source": [
    "def clf_knn(param_grid):\n",
    "    return KNeighborsClassifier(n_neighbors=param_grid[\"n_neighbors\"])"
   ]
  },
  {
   "cell_type": "markdown",
   "metadata": {},
   "source": [
    "### Random Forest"
   ]
  },
  {
   "cell_type": "code",
   "execution_count": 17,
   "metadata": {},
   "outputs": [],
   "source": [
    "def clf_rf(param_grid):\n",
    "    return RandomForestClassifier(bootstrap=param_grid[\"bootstrap\"],\n",
    "                                 max_depth=param_grid[\"max_depth\"],\n",
    "                                 max_features=param_grid[\"max_features\"],\n",
    "                                 min_samples_leaf=param_grid[\"min_samples_leaf\"],\n",
    "                                 min_samples_split=param_grid[\"min_samples_split\"],\n",
    "                                 n_estimators=param_grid[\"n_estimators\"])"
   ]
  },
  {
   "cell_type": "markdown",
   "metadata": {},
   "source": [
    "### General"
   ]
  },
  {
   "cell_type": "code",
   "execution_count": 18,
   "metadata": {},
   "outputs": [],
   "source": [
    "def clf(model, param_grid):\n",
    "    if model == \"svm\":\n",
    "        return clf_SVM(param_grid)\n",
    "    elif model==\"log\":\n",
    "        return clf_log(param_grid)\n",
    "    elif model==\"tree\":\n",
    "        return clf_tree(param_grid)\n",
    "    elif model==\"perc\":\n",
    "        return clf_perc(param_grid)\n",
    "    elif model==\"mlp\":\n",
    "        return clf_mlp(param_grid)\n",
    "    elif model==\"knn\":\n",
    "        return clf_knn(param_grid)\n",
    "    elif model==\"rf\":\n",
    "        return clf_rf(param_grid)"
   ]
  },
  {
   "cell_type": "code",
   "execution_count": 19,
   "metadata": {},
   "outputs": [],
   "source": [
    "def train_model(classifier, X_train, y_train):\n",
    "    classifier.fit(X_train, y_train)"
   ]
  },
  {
   "cell_type": "markdown",
   "metadata": {},
   "source": [
    "## Hyperparameter Tuning"
   ]
  },
  {
   "cell_type": "code",
   "execution_count": 20,
   "metadata": {},
   "outputs": [],
   "source": [
    "def hyper_tune(X_train, y_train, estimator, param_grid):\n",
    "    grid_search = RandomizedSearchCV(estimator=estimator, param_distributions=param_grid, cv=15, n_iter=30, n_jobs=-1, verbose=10)\n",
    "    grid_search.fit(X_train, y_train)\n",
    "    print(\"Best params:\", grid_search.best_params_)\n",
    "    return grid_search.best_params_"
   ]
  },
  {
   "cell_type": "markdown",
   "metadata": {},
   "source": [
    "### SVM"
   ]
  },
  {
   "cell_type": "code",
   "execution_count": 21,
   "metadata": {},
   "outputs": [],
   "source": [
    "svm_param_grid = {\n",
    "    \"C\" : [1, 10, 100, 1000, 10000],\n",
    "    \"gamma\" : [1e-6, 1e-5, 1e-4, 1e-3, 1e-2],\n",
    "    \"kernel\" : [\"linear\", \"rbf\"]\n",
    "}"
   ]
  },
  {
   "cell_type": "code",
   "execution_count": null,
   "metadata": {},
   "outputs": [],
   "source": [
    "# Happiness SVM Tuning\n",
    "best_param_grid_happy = hyper_tune(happy_X_train, happy_y_train, svm.SVC(), svm_param_grid)\n",
    "\n",
    "with open('params/svm/best_param_grid_happy', 'w') as f:\n",
    "    json.dump(best_param_grid_happy, f)"
   ]
  },
  {
   "cell_type": "code",
   "execution_count": null,
   "metadata": {},
   "outputs": [],
   "source": [
    "# Mushroom SVM Tuning\n",
    "best_param_grid_mush = hyper_tune(mush_X_train, mush_y_train, svm.SVC(), svm_param_grid)\n",
    "\n",
    "with open('params/svm/best_param_grid_mush', 'w') as f:\n",
    "    json.dump(best_param_grid_mush, f)"
   ]
  },
  {
   "cell_type": "code",
   "execution_count": null,
   "metadata": {},
   "outputs": [],
   "source": [
    "# Heart SVM Tuning\n",
    "best_param_grid_heart = hyper_tune(heart_X_train, heart_y_train, svm.SVC(), svm_param_grid)\n",
    "\n",
    "with open('params/svm/best_param_grid_heart', 'w') as f:\n",
    "    json.dump(best_param_grid_heart, f)"
   ]
  },
  {
   "cell_type": "code",
   "execution_count": 22,
   "metadata": {},
   "outputs": [
    {
     "name": "stdout",
     "output_type": "stream",
     "text": [
      "Fitting 15 folds for each of 30 candidates, totalling 450 fits\n"
     ]
    },
    {
     "name": "stderr",
     "output_type": "stream",
     "text": [
      "[Parallel(n_jobs=-1)]: Using backend LokyBackend with 4 concurrent workers.\n",
      "[Parallel(n_jobs=-1)]: Done   5 tasks      | elapsed:    3.9s\n",
      "[Parallel(n_jobs=-1)]: Done  10 tasks      | elapsed:    5.3s\n",
      "ERROR:root:Internal Python error in the inspect module.\n",
      "Below is the traceback from this internal error.\n",
      "\n",
      "ERROR:root:Internal Python error in the inspect module.\n",
      "Below is the traceback from this internal error.\n",
      "\n"
     ]
    },
    {
     "name": "stdout",
     "output_type": "stream",
     "text": [
      "Traceback (most recent call last):\n",
      "  File \"/usr/local/lib/python3.7/site-packages/joblib/parallel.py\", line 908, in retrieve\n",
      "    self._output.extend(job.get(timeout=self.timeout))\n",
      "  File \"/usr/local/lib/python3.7/site-packages/joblib/_parallel_backends.py\", line 554, in wrap_future_result\n",
      "    return future.result(timeout=timeout)\n",
      "  File \"/usr/local/Cellar/python/3.7.6_1/Frameworks/Python.framework/Versions/3.7/lib/python3.7/concurrent/futures/_base.py\", line 430, in result\n",
      "    self._condition.wait(timeout)\n",
      "  File \"/usr/local/Cellar/python/3.7.6_1/Frameworks/Python.framework/Versions/3.7/lib/python3.7/threading.py\", line 296, in wait\n",
      "    waiter.acquire()\n",
      "KeyboardInterrupt\n",
      "\n",
      "During handling of the above exception, another exception occurred:\n",
      "\n",
      "Traceback (most recent call last):\n",
      "  File \"/usr/local/lib/python3.7/site-packages/IPython/core/interactiveshell.py\", line 3326, in run_code\n",
      "    exec(code_obj, self.user_global_ns, self.user_ns)\n",
      "  File \"<ipython-input-22-5b27c09cc80f>\", line 2, in <module>\n",
      "    best_param_grid_adult = hyper_tune(adult_X_train, adult_y_train, svm.SVC(), svm_param_grid)\n",
      "  File \"<ipython-input-20-ecb911c399ef>\", line 3, in hyper_tune\n",
      "    grid_search.fit(X_train, y_train)\n",
      "  File \"/usr/local/lib/python3.7/site-packages/sklearn/model_selection/_search.py\", line 688, in fit\n",
      "    self._run_search(evaluate_candidates)\n",
      "  File \"/usr/local/lib/python3.7/site-packages/sklearn/model_selection/_search.py\", line 1469, in _run_search\n",
      "    random_state=self.random_state))\n",
      "  File \"/usr/local/lib/python3.7/site-packages/sklearn/model_selection/_search.py\", line 667, in evaluate_candidates\n",
      "    cv.split(X, y, groups)))\n",
      "  File \"/usr/local/lib/python3.7/site-packages/joblib/parallel.py\", line 1016, in __call__\n",
      "    self.retrieve()\n",
      "  File \"/usr/local/lib/python3.7/site-packages/joblib/parallel.py\", line 930, in retrieve\n",
      "    backend.abort_everything(ensure_ready=ensure_ready)\n",
      "  File \"/usr/local/lib/python3.7/site-packages/joblib/_parallel_backends.py\", line 571, in abort_everything\n",
      "    self._workers.shutdown(kill_workers=True)\n",
      "  File \"/usr/local/lib/python3.7/site-packages/joblib/externals/loky/process_executor.py\", line 1101, in shutdown\n",
      "    qmt.join()\n",
      "  File \"/usr/local/Cellar/python/3.7.6_1/Frameworks/Python.framework/Versions/3.7/lib/python3.7/threading.py\", line 1044, in join\n",
      "    self._wait_for_tstate_lock()\n",
      "  File \"/usr/local/Cellar/python/3.7.6_1/Frameworks/Python.framework/Versions/3.7/lib/python3.7/threading.py\", line 1060, in _wait_for_tstate_lock\n",
      "    elif lock.acquire(block, timeout):\n",
      "KeyboardInterrupt\n",
      "\n",
      "During handling of the above exception, another exception occurred:\n",
      "\n",
      "Traceback (most recent call last):\n",
      "  File \"/usr/local/lib/python3.7/site-packages/IPython/core/interactiveshell.py\", line 2040, in showtraceback\n",
      "    stb = value._render_traceback_()\n",
      "AttributeError: 'KeyboardInterrupt' object has no attribute '_render_traceback_'\n",
      "\n",
      "During handling of the above exception, another exception occurred:\n",
      "\n",
      "Traceback (most recent call last):\n",
      "  File \"/usr/local/lib/python3.7/site-packages/IPython/core/ultratb.py\", line 1101, in get_records\n",
      "    return _fixed_getinnerframes(etb, number_of_lines_of_context, tb_offset)\n",
      "  File \"/usr/local/lib/python3.7/site-packages/IPython/core/ultratb.py\", line 319, in wrapped\n",
      "    return f(*args, **kwargs)\n",
      "  File \"/usr/local/lib/python3.7/site-packages/IPython/core/ultratb.py\", line 353, in _fixed_getinnerframes\n",
      "    records = fix_frame_records_filenames(inspect.getinnerframes(etb, context))\n",
      "  File \"/usr/local/Cellar/python/3.7.6_1/Frameworks/Python.framework/Versions/3.7/lib/python3.7/inspect.py\", line 1502, in getinnerframes\n",
      "    frameinfo = (tb.tb_frame,) + getframeinfo(tb, context)\n",
      "  File \"/usr/local/Cellar/python/3.7.6_1/Frameworks/Python.framework/Versions/3.7/lib/python3.7/inspect.py\", line 1460, in getframeinfo\n",
      "    filename = getsourcefile(frame) or getfile(frame)\n",
      "  File \"/usr/local/Cellar/python/3.7.6_1/Frameworks/Python.framework/Versions/3.7/lib/python3.7/inspect.py\", line 696, in getsourcefile\n",
      "    if getattr(getmodule(object, filename), '__loader__', None) is not None:\n",
      "  File \"/usr/local/Cellar/python/3.7.6_1/Frameworks/Python.framework/Versions/3.7/lib/python3.7/inspect.py\", line 739, in getmodule\n",
      "    f = getabsfile(module)\n",
      "  File \"/usr/local/Cellar/python/3.7.6_1/Frameworks/Python.framework/Versions/3.7/lib/python3.7/inspect.py\", line 708, in getabsfile\n",
      "    _filename = getsourcefile(object) or getfile(object)\n",
      "  File \"/usr/local/Cellar/python/3.7.6_1/Frameworks/Python.framework/Versions/3.7/lib/python3.7/inspect.py\", line 684, in getsourcefile\n",
      "    filename = getfile(object)\n",
      "  File \"/usr/local/Cellar/python/3.7.6_1/Frameworks/Python.framework/Versions/3.7/lib/python3.7/inspect.py\", line 645, in getfile\n",
      "    if getattr(object, '__file__', None):\n",
      "KeyboardInterrupt\n",
      "Traceback (most recent call last):\n",
      "  File \"/usr/local/lib/python3.7/site-packages/joblib/parallel.py\", line 908, in retrieve\n",
      "    self._output.extend(job.get(timeout=self.timeout))\n",
      "  File \"/usr/local/lib/python3.7/site-packages/joblib/_parallel_backends.py\", line 554, in wrap_future_result\n",
      "    return future.result(timeout=timeout)\n",
      "  File \"/usr/local/Cellar/python/3.7.6_1/Frameworks/Python.framework/Versions/3.7/lib/python3.7/concurrent/futures/_base.py\", line 430, in result\n",
      "    self._condition.wait(timeout)\n",
      "  File \"/usr/local/Cellar/python/3.7.6_1/Frameworks/Python.framework/Versions/3.7/lib/python3.7/threading.py\", line 296, in wait\n",
      "    waiter.acquire()\n",
      "KeyboardInterrupt\n",
      "\n",
      "During handling of the above exception, another exception occurred:\n",
      "\n",
      "Traceback (most recent call last):\n",
      "  File \"/usr/local/lib/python3.7/site-packages/IPython/core/interactiveshell.py\", line 3326, in run_code\n",
      "    exec(code_obj, self.user_global_ns, self.user_ns)\n",
      "  File \"<ipython-input-22-5b27c09cc80f>\", line 2, in <module>\n",
      "    best_param_grid_adult = hyper_tune(adult_X_train, adult_y_train, svm.SVC(), svm_param_grid)\n",
      "  File \"<ipython-input-20-ecb911c399ef>\", line 3, in hyper_tune\n",
      "    grid_search.fit(X_train, y_train)\n",
      "  File \"/usr/local/lib/python3.7/site-packages/sklearn/model_selection/_search.py\", line 688, in fit\n",
      "    self._run_search(evaluate_candidates)\n",
      "  File \"/usr/local/lib/python3.7/site-packages/sklearn/model_selection/_search.py\", line 1469, in _run_search\n",
      "    random_state=self.random_state))\n",
      "  File \"/usr/local/lib/python3.7/site-packages/sklearn/model_selection/_search.py\", line 667, in evaluate_candidates\n",
      "    cv.split(X, y, groups)))\n",
      "  File \"/usr/local/lib/python3.7/site-packages/joblib/parallel.py\", line 1016, in __call__\n",
      "    self.retrieve()\n",
      "  File \"/usr/local/lib/python3.7/site-packages/joblib/parallel.py\", line 930, in retrieve\n",
      "    backend.abort_everything(ensure_ready=ensure_ready)\n",
      "  File \"/usr/local/lib/python3.7/site-packages/joblib/_parallel_backends.py\", line 571, in abort_everything\n",
      "    self._workers.shutdown(kill_workers=True)\n",
      "  File \"/usr/local/lib/python3.7/site-packages/joblib/externals/loky/process_executor.py\", line 1101, in shutdown\n",
      "    qmt.join()\n",
      "  File \"/usr/local/Cellar/python/3.7.6_1/Frameworks/Python.framework/Versions/3.7/lib/python3.7/threading.py\", line 1044, in join\n",
      "    self._wait_for_tstate_lock()\n",
      "  File \"/usr/local/Cellar/python/3.7.6_1/Frameworks/Python.framework/Versions/3.7/lib/python3.7/threading.py\", line 1060, in _wait_for_tstate_lock\n",
      "    elif lock.acquire(block, timeout):\n",
      "KeyboardInterrupt\n",
      "\n",
      "During handling of the above exception, another exception occurred:\n",
      "\n",
      "Traceback (most recent call last):\n",
      "  File \"/usr/local/lib/python3.7/site-packages/IPython/core/interactiveshell.py\", line 2040, in showtraceback\n",
      "    stb = value._render_traceback_()\n",
      "AttributeError: 'KeyboardInterrupt' object has no attribute '_render_traceback_'\n",
      "\n",
      "During handling of the above exception, another exception occurred:\n",
      "\n",
      "Traceback (most recent call last):\n",
      "  File \"/usr/local/lib/python3.7/site-packages/IPython/core/interactiveshell.py\", line 3249, in run_ast_nodes\n",
      "    if (await self.run_code(code, result,  async_=asy)):\n",
      "  File \"/usr/local/lib/python3.7/site-packages/IPython/core/interactiveshell.py\", line 3343, in run_code\n",
      "    self.showtraceback(running_compiled_code=True)\n",
      "  File \"/usr/local/lib/python3.7/site-packages/IPython/core/interactiveshell.py\", line 2043, in showtraceback\n",
      "    value, tb, tb_offset=tb_offset)\n",
      "  File \"/usr/local/lib/python3.7/site-packages/IPython/core/ultratb.py\", line 1385, in structured_traceback\n",
      "    self, etype, value, tb, tb_offset, number_of_lines_of_context)\n",
      "  File \"/usr/local/lib/python3.7/site-packages/IPython/core/ultratb.py\", line 1288, in structured_traceback\n",
      "    self, etype, value, tb, tb_offset, number_of_lines_of_context\n",
      "  File \"/usr/local/lib/python3.7/site-packages/IPython/core/ultratb.py\", line 1150, in structured_traceback\n",
      "    formatted_exceptions += self.prepare_chained_exception_message(evalue.__cause__)\n",
      "TypeError: can only concatenate str (not \"list\") to str\n",
      "\n",
      "During handling of the above exception, another exception occurred:\n",
      "\n",
      "Traceback (most recent call last):\n",
      "  File \"/usr/local/lib/python3.7/site-packages/IPython/core/interactiveshell.py\", line 2040, in showtraceback\n",
      "    stb = value._render_traceback_()\n",
      "AttributeError: 'TypeError' object has no attribute '_render_traceback_'\n",
      "\n",
      "During handling of the above exception, another exception occurred:\n",
      "\n",
      "Traceback (most recent call last):\n",
      "  File \"/usr/local/lib/python3.7/site-packages/IPython/core/ultratb.py\", line 1101, in get_records\n",
      "    return _fixed_getinnerframes(etb, number_of_lines_of_context, tb_offset)\n",
      "  File \"/usr/local/lib/python3.7/site-packages/IPython/core/ultratb.py\", line 319, in wrapped\n",
      "    return f(*args, **kwargs)\n",
      "  File \"/usr/local/lib/python3.7/site-packages/IPython/core/ultratb.py\", line 353, in _fixed_getinnerframes\n",
      "    records = fix_frame_records_filenames(inspect.getinnerframes(etb, context))\n",
      "  File \"/usr/local/Cellar/python/3.7.6_1/Frameworks/Python.framework/Versions/3.7/lib/python3.7/inspect.py\", line 1502, in getinnerframes\n",
      "    frameinfo = (tb.tb_frame,) + getframeinfo(tb, context)\n",
      "  File \"/usr/local/Cellar/python/3.7.6_1/Frameworks/Python.framework/Versions/3.7/lib/python3.7/inspect.py\", line 1460, in getframeinfo\n",
      "    filename = getsourcefile(frame) or getfile(frame)\n",
      "  File \"/usr/local/Cellar/python/3.7.6_1/Frameworks/Python.framework/Versions/3.7/lib/python3.7/inspect.py\", line 696, in getsourcefile\n",
      "    if getattr(getmodule(object, filename), '__loader__', None) is not None:\n",
      "  File \"/usr/local/Cellar/python/3.7.6_1/Frameworks/Python.framework/Versions/3.7/lib/python3.7/inspect.py\", line 742, in getmodule\n",
      "    os.path.realpath(f)] = module.__name__\n",
      "  File \"/usr/local/Cellar/python/3.7.6_1/Frameworks/Python.framework/Versions/3.7/lib/python3.7/posixpath.py\", line 395, in realpath\n",
      "    path, ok = _joinrealpath(filename[:0], filename, {})\n",
      "  File \"/usr/local/Cellar/python/3.7.6_1/Frameworks/Python.framework/Versions/3.7/lib/python3.7/posixpath.py\", line 428, in _joinrealpath\n",
      "    newpath = join(path, name)\n",
      "  File \"/usr/local/Cellar/python/3.7.6_1/Frameworks/Python.framework/Versions/3.7/lib/python3.7/posixpath.py\", line 80, in join\n",
      "    a = os.fspath(a)\n",
      "KeyboardInterrupt\n"
     ]
    },
    {
     "ename": "TypeError",
     "evalue": "can only concatenate str (not \"list\") to str",
     "output_type": "error",
     "traceback": [
      "\u001b[0;31m---------------------------------------------------------------------------\u001b[0m",
      "\u001b[0;31mKeyboardInterrupt\u001b[0m                         Traceback (most recent call last)",
      "\u001b[0;32m/usr/local/lib/python3.7/site-packages/joblib/parallel.py\u001b[0m in \u001b[0;36mretrieve\u001b[0;34m(self)\u001b[0m\n\u001b[1;32m    907\u001b[0m                 \u001b[0;32mif\u001b[0m \u001b[0mgetattr\u001b[0m\u001b[0;34m(\u001b[0m\u001b[0mself\u001b[0m\u001b[0;34m.\u001b[0m\u001b[0m_backend\u001b[0m\u001b[0;34m,\u001b[0m \u001b[0;34m'supports_timeout'\u001b[0m\u001b[0;34m,\u001b[0m \u001b[0;32mFalse\u001b[0m\u001b[0;34m)\u001b[0m\u001b[0;34m:\u001b[0m\u001b[0;34m\u001b[0m\u001b[0;34m\u001b[0m\u001b[0m\n\u001b[0;32m--> 908\u001b[0;31m                     \u001b[0mself\u001b[0m\u001b[0;34m.\u001b[0m\u001b[0m_output\u001b[0m\u001b[0;34m.\u001b[0m\u001b[0mextend\u001b[0m\u001b[0;34m(\u001b[0m\u001b[0mjob\u001b[0m\u001b[0;34m.\u001b[0m\u001b[0mget\u001b[0m\u001b[0;34m(\u001b[0m\u001b[0mtimeout\u001b[0m\u001b[0;34m=\u001b[0m\u001b[0mself\u001b[0m\u001b[0;34m.\u001b[0m\u001b[0mtimeout\u001b[0m\u001b[0;34m)\u001b[0m\u001b[0;34m)\u001b[0m\u001b[0;34m\u001b[0m\u001b[0;34m\u001b[0m\u001b[0m\n\u001b[0m\u001b[1;32m    909\u001b[0m                 \u001b[0;32melse\u001b[0m\u001b[0;34m:\u001b[0m\u001b[0;34m\u001b[0m\u001b[0;34m\u001b[0m\u001b[0m\n",
      "\u001b[0;32m/usr/local/lib/python3.7/site-packages/joblib/_parallel_backends.py\u001b[0m in \u001b[0;36mwrap_future_result\u001b[0;34m(future, timeout)\u001b[0m\n\u001b[1;32m    553\u001b[0m         \u001b[0;32mtry\u001b[0m\u001b[0;34m:\u001b[0m\u001b[0;34m\u001b[0m\u001b[0;34m\u001b[0m\u001b[0m\n\u001b[0;32m--> 554\u001b[0;31m             \u001b[0;32mreturn\u001b[0m \u001b[0mfuture\u001b[0m\u001b[0;34m.\u001b[0m\u001b[0mresult\u001b[0m\u001b[0;34m(\u001b[0m\u001b[0mtimeout\u001b[0m\u001b[0;34m=\u001b[0m\u001b[0mtimeout\u001b[0m\u001b[0;34m)\u001b[0m\u001b[0;34m\u001b[0m\u001b[0;34m\u001b[0m\u001b[0m\n\u001b[0m\u001b[1;32m    555\u001b[0m         \u001b[0;32mexcept\u001b[0m \u001b[0mLokyTimeoutError\u001b[0m\u001b[0;34m:\u001b[0m\u001b[0;34m\u001b[0m\u001b[0;34m\u001b[0m\u001b[0m\n",
      "\u001b[0;32m/usr/local/Cellar/python/3.7.6_1/Frameworks/Python.framework/Versions/3.7/lib/python3.7/concurrent/futures/_base.py\u001b[0m in \u001b[0;36mresult\u001b[0;34m(self, timeout)\u001b[0m\n\u001b[1;32m    429\u001b[0m \u001b[0;34m\u001b[0m\u001b[0m\n\u001b[0;32m--> 430\u001b[0;31m             \u001b[0mself\u001b[0m\u001b[0;34m.\u001b[0m\u001b[0m_condition\u001b[0m\u001b[0;34m.\u001b[0m\u001b[0mwait\u001b[0m\u001b[0;34m(\u001b[0m\u001b[0mtimeout\u001b[0m\u001b[0;34m)\u001b[0m\u001b[0;34m\u001b[0m\u001b[0;34m\u001b[0m\u001b[0m\n\u001b[0m\u001b[1;32m    431\u001b[0m \u001b[0;34m\u001b[0m\u001b[0m\n",
      "\u001b[0;32m/usr/local/Cellar/python/3.7.6_1/Frameworks/Python.framework/Versions/3.7/lib/python3.7/threading.py\u001b[0m in \u001b[0;36mwait\u001b[0;34m(self, timeout)\u001b[0m\n\u001b[1;32m    295\u001b[0m             \u001b[0;32mif\u001b[0m \u001b[0mtimeout\u001b[0m \u001b[0;32mis\u001b[0m \u001b[0;32mNone\u001b[0m\u001b[0;34m:\u001b[0m\u001b[0;34m\u001b[0m\u001b[0;34m\u001b[0m\u001b[0m\n\u001b[0;32m--> 296\u001b[0;31m                 \u001b[0mwaiter\u001b[0m\u001b[0;34m.\u001b[0m\u001b[0macquire\u001b[0m\u001b[0;34m(\u001b[0m\u001b[0;34m)\u001b[0m\u001b[0;34m\u001b[0m\u001b[0;34m\u001b[0m\u001b[0m\n\u001b[0m\u001b[1;32m    297\u001b[0m                 \u001b[0mgotit\u001b[0m \u001b[0;34m=\u001b[0m \u001b[0;32mTrue\u001b[0m\u001b[0;34m\u001b[0m\u001b[0;34m\u001b[0m\u001b[0m\n",
      "\u001b[0;31mKeyboardInterrupt\u001b[0m: ",
      "\nDuring handling of the above exception, another exception occurred:\n",
      "\nDuring handling of the above exception, another exception occurred:\n",
      "\u001b[0;31mAttributeError\u001b[0m                            Traceback (most recent call last)",
      "\u001b[0;32m/usr/local/lib/python3.7/site-packages/IPython/core/interactiveshell.py\u001b[0m in \u001b[0;36mshowtraceback\u001b[0;34m(self, exc_tuple, filename, tb_offset, exception_only, running_compiled_code)\u001b[0m\n\u001b[1;32m   2039\u001b[0m                         \u001b[0;31m# in the engines. This should return a list of strings.\u001b[0m\u001b[0;34m\u001b[0m\u001b[0;34m\u001b[0m\u001b[0;34m\u001b[0m\u001b[0m\n\u001b[0;32m-> 2040\u001b[0;31m                         \u001b[0mstb\u001b[0m \u001b[0;34m=\u001b[0m \u001b[0mvalue\u001b[0m\u001b[0;34m.\u001b[0m\u001b[0m_render_traceback_\u001b[0m\u001b[0;34m(\u001b[0m\u001b[0;34m)\u001b[0m\u001b[0;34m\u001b[0m\u001b[0;34m\u001b[0m\u001b[0m\n\u001b[0m\u001b[1;32m   2041\u001b[0m                     \u001b[0;32mexcept\u001b[0m \u001b[0mException\u001b[0m\u001b[0;34m:\u001b[0m\u001b[0;34m\u001b[0m\u001b[0;34m\u001b[0m\u001b[0m\n",
      "\u001b[0;31mAttributeError\u001b[0m: 'KeyboardInterrupt' object has no attribute '_render_traceback_'",
      "\nDuring handling of the above exception, another exception occurred:\n",
      "\u001b[0;31mTypeError\u001b[0m                                 Traceback (most recent call last)",
      "\u001b[0;32m/usr/local/lib/python3.7/site-packages/IPython/core/interactiveshell.py\u001b[0m in \u001b[0;36mrun_code\u001b[0;34m(self, code_obj, result, async_)\u001b[0m\n\u001b[1;32m   3341\u001b[0m             \u001b[0;32mif\u001b[0m \u001b[0mresult\u001b[0m \u001b[0;32mis\u001b[0m \u001b[0;32mnot\u001b[0m \u001b[0;32mNone\u001b[0m\u001b[0;34m:\u001b[0m\u001b[0;34m\u001b[0m\u001b[0;34m\u001b[0m\u001b[0m\n\u001b[1;32m   3342\u001b[0m                 \u001b[0mresult\u001b[0m\u001b[0;34m.\u001b[0m\u001b[0merror_in_exec\u001b[0m \u001b[0;34m=\u001b[0m \u001b[0msys\u001b[0m\u001b[0;34m.\u001b[0m\u001b[0mexc_info\u001b[0m\u001b[0;34m(\u001b[0m\u001b[0;34m)\u001b[0m\u001b[0;34m[\u001b[0m\u001b[0;36m1\u001b[0m\u001b[0;34m]\u001b[0m\u001b[0;34m\u001b[0m\u001b[0;34m\u001b[0m\u001b[0m\n\u001b[0;32m-> 3343\u001b[0;31m             \u001b[0mself\u001b[0m\u001b[0;34m.\u001b[0m\u001b[0mshowtraceback\u001b[0m\u001b[0;34m(\u001b[0m\u001b[0mrunning_compiled_code\u001b[0m\u001b[0;34m=\u001b[0m\u001b[0;32mTrue\u001b[0m\u001b[0;34m)\u001b[0m\u001b[0;34m\u001b[0m\u001b[0;34m\u001b[0m\u001b[0m\n\u001b[0m\u001b[1;32m   3344\u001b[0m         \u001b[0;32melse\u001b[0m\u001b[0;34m:\u001b[0m\u001b[0;34m\u001b[0m\u001b[0;34m\u001b[0m\u001b[0m\n\u001b[1;32m   3345\u001b[0m             \u001b[0moutflag\u001b[0m \u001b[0;34m=\u001b[0m \u001b[0;32mFalse\u001b[0m\u001b[0;34m\u001b[0m\u001b[0;34m\u001b[0m\u001b[0m\n",
      "\u001b[0;32m/usr/local/lib/python3.7/site-packages/IPython/core/interactiveshell.py\u001b[0m in \u001b[0;36mshowtraceback\u001b[0;34m(self, exc_tuple, filename, tb_offset, exception_only, running_compiled_code)\u001b[0m\n\u001b[1;32m   2041\u001b[0m                     \u001b[0;32mexcept\u001b[0m \u001b[0mException\u001b[0m\u001b[0;34m:\u001b[0m\u001b[0;34m\u001b[0m\u001b[0;34m\u001b[0m\u001b[0m\n\u001b[1;32m   2042\u001b[0m                         stb = self.InteractiveTB.structured_traceback(etype,\n\u001b[0;32m-> 2043\u001b[0;31m                                             value, tb, tb_offset=tb_offset)\n\u001b[0m\u001b[1;32m   2044\u001b[0m \u001b[0;34m\u001b[0m\u001b[0m\n\u001b[1;32m   2045\u001b[0m                     \u001b[0mself\u001b[0m\u001b[0;34m.\u001b[0m\u001b[0m_showtraceback\u001b[0m\u001b[0;34m(\u001b[0m\u001b[0metype\u001b[0m\u001b[0;34m,\u001b[0m \u001b[0mvalue\u001b[0m\u001b[0;34m,\u001b[0m \u001b[0mstb\u001b[0m\u001b[0;34m)\u001b[0m\u001b[0;34m\u001b[0m\u001b[0;34m\u001b[0m\u001b[0m\n",
      "\u001b[0;32m/usr/local/lib/python3.7/site-packages/IPython/core/ultratb.py\u001b[0m in \u001b[0;36mstructured_traceback\u001b[0;34m(self, etype, value, tb, tb_offset, number_of_lines_of_context)\u001b[0m\n\u001b[1;32m   1383\u001b[0m         \u001b[0mself\u001b[0m\u001b[0;34m.\u001b[0m\u001b[0mtb\u001b[0m \u001b[0;34m=\u001b[0m \u001b[0mtb\u001b[0m\u001b[0;34m\u001b[0m\u001b[0;34m\u001b[0m\u001b[0m\n\u001b[1;32m   1384\u001b[0m         return FormattedTB.structured_traceback(\n\u001b[0;32m-> 1385\u001b[0;31m             self, etype, value, tb, tb_offset, number_of_lines_of_context)\n\u001b[0m\u001b[1;32m   1386\u001b[0m \u001b[0;34m\u001b[0m\u001b[0m\n\u001b[1;32m   1387\u001b[0m \u001b[0;34m\u001b[0m\u001b[0m\n",
      "\u001b[0;32m/usr/local/lib/python3.7/site-packages/IPython/core/ultratb.py\u001b[0m in \u001b[0;36mstructured_traceback\u001b[0;34m(self, etype, value, tb, tb_offset, number_of_lines_of_context)\u001b[0m\n\u001b[1;32m   1286\u001b[0m             \u001b[0;31m# Verbose modes need a full traceback\u001b[0m\u001b[0;34m\u001b[0m\u001b[0;34m\u001b[0m\u001b[0;34m\u001b[0m\u001b[0m\n\u001b[1;32m   1287\u001b[0m             return VerboseTB.structured_traceback(\n\u001b[0;32m-> 1288\u001b[0;31m                 \u001b[0mself\u001b[0m\u001b[0;34m,\u001b[0m \u001b[0metype\u001b[0m\u001b[0;34m,\u001b[0m \u001b[0mvalue\u001b[0m\u001b[0;34m,\u001b[0m \u001b[0mtb\u001b[0m\u001b[0;34m,\u001b[0m \u001b[0mtb_offset\u001b[0m\u001b[0;34m,\u001b[0m \u001b[0mnumber_of_lines_of_context\u001b[0m\u001b[0;34m\u001b[0m\u001b[0;34m\u001b[0m\u001b[0m\n\u001b[0m\u001b[1;32m   1289\u001b[0m             )\n\u001b[1;32m   1290\u001b[0m         \u001b[0;32melif\u001b[0m \u001b[0mmode\u001b[0m \u001b[0;34m==\u001b[0m \u001b[0;34m'Minimal'\u001b[0m\u001b[0;34m:\u001b[0m\u001b[0;34m\u001b[0m\u001b[0;34m\u001b[0m\u001b[0m\n",
      "\u001b[0;32m/usr/local/lib/python3.7/site-packages/IPython/core/ultratb.py\u001b[0m in \u001b[0;36mstructured_traceback\u001b[0;34m(self, etype, evalue, etb, tb_offset, number_of_lines_of_context)\u001b[0m\n\u001b[1;32m   1148\u001b[0m         \u001b[0mexception\u001b[0m \u001b[0;34m=\u001b[0m \u001b[0mself\u001b[0m\u001b[0;34m.\u001b[0m\u001b[0mget_parts_of_chained_exception\u001b[0m\u001b[0;34m(\u001b[0m\u001b[0mevalue\u001b[0m\u001b[0;34m)\u001b[0m\u001b[0;34m\u001b[0m\u001b[0;34m\u001b[0m\u001b[0m\n\u001b[1;32m   1149\u001b[0m         \u001b[0;32mif\u001b[0m \u001b[0mexception\u001b[0m\u001b[0;34m:\u001b[0m\u001b[0;34m\u001b[0m\u001b[0;34m\u001b[0m\u001b[0m\n\u001b[0;32m-> 1150\u001b[0;31m             \u001b[0mformatted_exceptions\u001b[0m \u001b[0;34m+=\u001b[0m \u001b[0mself\u001b[0m\u001b[0;34m.\u001b[0m\u001b[0mprepare_chained_exception_message\u001b[0m\u001b[0;34m(\u001b[0m\u001b[0mevalue\u001b[0m\u001b[0;34m.\u001b[0m\u001b[0m__cause__\u001b[0m\u001b[0;34m)\u001b[0m\u001b[0;34m\u001b[0m\u001b[0;34m\u001b[0m\u001b[0m\n\u001b[0m\u001b[1;32m   1151\u001b[0m             \u001b[0metype\u001b[0m\u001b[0;34m,\u001b[0m \u001b[0mevalue\u001b[0m\u001b[0;34m,\u001b[0m \u001b[0metb\u001b[0m \u001b[0;34m=\u001b[0m \u001b[0mexception\u001b[0m\u001b[0;34m\u001b[0m\u001b[0;34m\u001b[0m\u001b[0m\n\u001b[1;32m   1152\u001b[0m         \u001b[0;32melse\u001b[0m\u001b[0;34m:\u001b[0m\u001b[0;34m\u001b[0m\u001b[0;34m\u001b[0m\u001b[0m\n",
      "\u001b[0;31mTypeError\u001b[0m: can only concatenate str (not \"list\") to str"
     ]
    }
   ],
   "source": [
    "# Adult SVM Tuning\n",
    "best_param_grid_adult = hyper_tune(adult_X_train, adult_y_train, svm.SVC(), svm_param_grid)\n",
    "\n",
    "with open('params/svm/best_param_grid_adult', 'w') as f:\n",
    "    json.dump(best_param_grid_adult, f)"
   ]
  },
  {
   "cell_type": "markdown",
   "metadata": {},
   "source": [
    "### Logistic Regression"
   ]
  },
  {
   "cell_type": "code",
   "execution_count": null,
   "metadata": {},
   "outputs": [],
   "source": [
    "log_param_grid = {\n",
    "    \"C\" : [1, 10, 100, 1000, 10000],\n",
    "    \"penalty\" : [\"l1\", \"l2\"],\n",
    "}"
   ]
  },
  {
   "cell_type": "code",
   "execution_count": null,
   "metadata": {},
   "outputs": [],
   "source": [
    "# Happiness Logistic Regression Tuning\n",
    "best_param_grid_happy = hyper_tune(happy_X_train, happy_y_train, LogisticRegression(), log_param_grid)\n",
    "\n",
    "with open('params/log/best_param_grid_happy', 'w') as f:\n",
    "    json.dump(best_param_grid_happy, f)"
   ]
  },
  {
   "cell_type": "code",
   "execution_count": null,
   "metadata": {},
   "outputs": [],
   "source": [
    "# Mushroom Logistic Regression Tuning\n",
    "best_param_grid_mush = hyper_tune(mush_X_train, mush_y_train, LogisticRegression(), log_param_grid)\n",
    "\n",
    "with open('params/log/best_param_grid_mush', 'w') as f:\n",
    "    json.dump(best_param_grid_mush, f)"
   ]
  },
  {
   "cell_type": "code",
   "execution_count": null,
   "metadata": {},
   "outputs": [],
   "source": [
    "# Heart Logistic Regression Tuning\n",
    "best_param_grid_heart = hyper_tune(heart_X_train, heart_y_train, LogisticRegression(), log_param_grid)\n",
    "\n",
    "with open('params/log/best_param_grid_heart', 'w') as f:\n",
    "    json.dump(best_param_grid_heart, f)"
   ]
  },
  {
   "cell_type": "markdown",
   "metadata": {},
   "source": [
    "### Decision Tree"
   ]
  },
  {
   "cell_type": "code",
   "execution_count": null,
   "metadata": {},
   "outputs": [],
   "source": [
    "tree_param_grid = {\n",
    "    \"criterion\" : ['gini', 'entropy'],\n",
    "    \"max_depth\" : [4,6,8,12],\n",
    "}"
   ]
  },
  {
   "cell_type": "code",
   "execution_count": null,
   "metadata": {},
   "outputs": [],
   "source": [
    "# Happiness Decision tree Tuning\n",
    "best_param_grid_happy = hyper_tune(happy_X_train, happy_y_train, DecisionTreeClassifier(), tree_param_grid)\n",
    "\n",
    "with open('params/tree/best_param_grid_happy', 'w') as f:\n",
    "    json.dump(best_param_grid_happy, f)"
   ]
  },
  {
   "cell_type": "code",
   "execution_count": null,
   "metadata": {},
   "outputs": [],
   "source": [
    "# Mushroom Decision Tree Tuning\n",
    "best_param_grid_mush = hyper_tune(mush_X_train, mush_y_train, DecisionTreeClassifier(), tree_param_grid)\n",
    "\n",
    "with open('params/tree/best_param_grid_mush', 'w') as f:\n",
    "    json.dump(best_param_grid_mush, f)"
   ]
  },
  {
   "cell_type": "code",
   "execution_count": null,
   "metadata": {},
   "outputs": [],
   "source": [
    "# Heart Decision Tree Tuning\n",
    "best_param_grid_heart = hyper_tune(heart_X_train, heart_y_train, DecisionTreeClassifier(), tree_param_grid)\n",
    "\n",
    "with open('params/tree/best_param_grid_heart', 'w') as f:\n",
    "    json.dump(best_param_grid_heart, f)"
   ]
  },
  {
   "cell_type": "markdown",
   "metadata": {},
   "source": [
    "### Perceptron"
   ]
  },
  {
   "cell_type": "code",
   "execution_count": null,
   "metadata": {},
   "outputs": [],
   "source": [
    "perc_param_grid = {\n",
    "    \"penalty\" : [None, \"l1\", \"l2\", \"elasticnet\"],\n",
    "    \"alpha\" : [0.001, 0.0001, 0.00001],\n",
    "    \"max_iter\" : [500, 1000, 2000],\n",
    "    \"tol\" : [1e-4, 1e-3, 1e-2],\n",
    "    \"early_stopping\" : [True, False]\n",
    "}"
   ]
  },
  {
   "cell_type": "code",
   "execution_count": null,
   "metadata": {},
   "outputs": [],
   "source": [
    "# Happiness Perceptron Tuning\n",
    "best_param_grid_happy = hyper_tune(happy_X_train, happy_y_train, Perceptron(), perc_param_grid)\n",
    "\n",
    "with open('params/perc/best_param_grid_happy', 'w') as f:\n",
    "    json.dump(best_param_grid_happy, f)"
   ]
  },
  {
   "cell_type": "code",
   "execution_count": null,
   "metadata": {},
   "outputs": [],
   "source": [
    "# Mushroom Perceptron Tuning\n",
    "best_param_grid_mush = hyper_tune(mush_X_train, mush_y_train, Perceptron(), perc_param_grid)\n",
    "\n",
    "with open('params/perc/best_param_grid_mush', 'w') as f:\n",
    "    json.dump(best_param_grid_mush, f)"
   ]
  },
  {
   "cell_type": "code",
   "execution_count": null,
   "metadata": {},
   "outputs": [],
   "source": [
    "# Heart Perceptron Tuning\n",
    "best_param_grid_heart = hyper_tune(heart_X_train, heart_y_train, Perceptron(), perc_param_grid)\n",
    "\n",
    "with open('params/perc/best_param_grid_heart', 'w') as f:\n",
    "    json.dump(best_param_grid_heart, f)"
   ]
  },
  {
   "cell_type": "markdown",
   "metadata": {},
   "source": [
    "### Multi-Layer Perceptron"
   ]
  },
  {
   "cell_type": "code",
   "execution_count": null,
   "metadata": {},
   "outputs": [],
   "source": [
    "mlp_param_grid = {\n",
    "    \"hidden_layer_sizes\" : [(100,), (50,), (200,), (25,)],\n",
    "    \"activation\" : [\"identity\", \"logistic\", \"tanh\", \"relu\"],\n",
    "    \"solver\" : [\"lbfgs\", \"sgd\", \"adam\"],\n",
    "    \"max_iter\" : [200, 100, 300],\n",
    "    \"tol\" : [1e-4, 1e-3, 1e-5],\n",
    "    \"early_stopping\" : [True, False]\n",
    "}"
   ]
  },
  {
   "cell_type": "code",
   "execution_count": null,
   "metadata": {},
   "outputs": [],
   "source": [
    "# Happiness Multi-Layer Perceptron Tuning\n",
    "best_param_grid_happy = hyper_tune(happy_X_train, happy_y_train, MLPClassifier(), mlp_param_grid)\n",
    "\n",
    "with open('params/mlp/best_param_grid_happy', 'w') as f:\n",
    "    json.dump(best_param_grid_happy, f)"
   ]
  },
  {
   "cell_type": "code",
   "execution_count": null,
   "metadata": {},
   "outputs": [],
   "source": [
    "# Mushroom Perceptron Tuning\n",
    "best_param_grid_mush = hyper_tune(mush_X_train, mush_y_train, MLPClassifier(), mlp_param_grid)\n",
    "\n",
    "with open('params/mlp/best_param_grid_mush', 'w') as f:\n",
    "    json.dump(best_param_grid_mush, f)"
   ]
  },
  {
   "cell_type": "code",
   "execution_count": null,
   "metadata": {},
   "outputs": [],
   "source": [
    "# Heart Perceptron Tuning\n",
    "best_param_grid_heart = hyper_tune(heart_X_train, heart_y_train, MLPClassifier(), mlp_param_grid)\n",
    "\n",
    "with open('params/mlp/best_param_grid_heart', 'w') as f:\n",
    "    json.dump(best_param_grid_heart, f)"
   ]
  },
  {
   "cell_type": "markdown",
   "metadata": {},
   "source": [
    "### KNN"
   ]
  },
  {
   "cell_type": "code",
   "execution_count": null,
   "metadata": {},
   "outputs": [],
   "source": [
    "knn_param_grid = {\n",
    "    \"n_neighbors\" : [1, 3, 5, 9, 15, 25, 50, 75, 100],\n",
    "}"
   ]
  },
  {
   "cell_type": "code",
   "execution_count": null,
   "metadata": {},
   "outputs": [],
   "source": [
    "# Happiness Decision tree Tuning\n",
    "best_param_grid_happy = hyper_tune(happy_X_train, happy_y_train, KNeighborsClassifier(), knn_param_grid)\n",
    "\n",
    "with open('params/knn/best_param_grid_happy', 'w') as f:\n",
    "    json.dump(best_param_grid_happy, f)"
   ]
  },
  {
   "cell_type": "code",
   "execution_count": null,
   "metadata": {},
   "outputs": [],
   "source": [
    "# Mushroom Decision Tree Tuning\n",
    "best_param_grid_mush = hyper_tune(mush_X_train, mush_y_train, KNeighborsClassifier(), knn_param_grid)\n",
    "\n",
    "with open('params/knn/best_param_grid_mush', 'w') as f:\n",
    "    json.dump(best_param_grid_mush, f)"
   ]
  },
  {
   "cell_type": "code",
   "execution_count": null,
   "metadata": {},
   "outputs": [],
   "source": [
    "# Heart Decision Tree Tuning\n",
    "best_param_grid_heart = hyper_tune(heart_X_train, heart_y_train, KNeighborsClassifier(), knn_param_grid)\n",
    "\n",
    "with open('params/knn/best_param_grid_heart', 'w') as f:\n",
    "    json.dump(best_param_grid_heart, f)"
   ]
  },
  {
   "cell_type": "markdown",
   "metadata": {},
   "source": [
    "### Random Forest"
   ]
  },
  {
   "cell_type": "code",
   "execution_count": null,
   "metadata": {},
   "outputs": [],
   "source": [
    "rf_param_grid = {\n",
    "    'bootstrap': [True, False],\n",
    "    'max_depth': [10, 20, 30, 40, 50, 60, 70, 80, 90, 100, None],\n",
    "    'max_features': ['auto', 'sqrt'],\n",
    "    'min_samples_leaf': [1, 2, 4],\n",
    "    'min_samples_split': [2, 5, 10],\n",
    "    'n_estimators': [200, 400, 600, 800, 1000, 1200, 1400, 1600, 1800, 2000]\n",
    "}"
   ]
  },
  {
   "cell_type": "code",
   "execution_count": null,
   "metadata": {},
   "outputs": [],
   "source": [
    "# Happiness Random Forest Tuning\n",
    "best_param_grid_happy = hyper_tune(happy_X_train, happy_y_train, RandomForestClassifier(), rf_param_grid)\n",
    "\n",
    "with open('params/rf/best_param_grid_happy', 'w') as f:\n",
    "    json.dump(best_param_grid_happy, f)"
   ]
  },
  {
   "cell_type": "code",
   "execution_count": null,
   "metadata": {},
   "outputs": [],
   "source": [
    "# Mushroom Decision Tree Tuning\n",
    "best_param_grid_mush = hyper_tune(mush_X_train, mush_y_train, RandomForestClassifier(), rf_param_grid)\n",
    "\n",
    "with open('params/rf/best_param_grid_mush', 'w') as f:\n",
    "    json.dump(best_param_grid_mush, f)"
   ]
  },
  {
   "cell_type": "code",
   "execution_count": null,
   "metadata": {},
   "outputs": [],
   "source": [
    "# Heart Decision Tree Tuning\n",
    "best_param_grid_heart = hyper_tune(heart_X_train, heart_y_train, RandomForestClassifier(), rf_param_grid)\n",
    "\n",
    "with open('params/rf/best_param_grid_heart', 'w') as f:\n",
    "    json.dump(best_param_grid_heart, f)"
   ]
  },
  {
   "cell_type": "markdown",
   "metadata": {},
   "source": [
    "## Evaluate with best Params"
   ]
  },
  {
   "cell_type": "code",
   "execution_count": null,
   "metadata": {},
   "outputs": [],
   "source": [
    "def evalModel(classifer, X_test, y_test):\n",
    "    y_pred = classifier.predict(X_test)\n",
    "    \n",
    "    accuracy= accuracy_score(y_test, y_pred)\n",
    "    precision = precision_score(y_test, y_pred, average=\"macro\")\n",
    "    recall = recall_score(y_test, y_pred, average=\"macro\")\n",
    "    f_score = f1_score(y_test, y_pred, average=\"macro\") \n",
    "    \n",
    "    return (accuracy, precision, recall, f_score)"
   ]
  },
  {
   "cell_type": "markdown",
   "metadata": {},
   "source": [
    "### SVM"
   ]
  },
  {
   "cell_type": "code",
   "execution_count": null,
   "metadata": {},
   "outputs": [],
   "source": [
    "with open('params/svm/best_param_grid_happy', 'r') as f:\n",
    "    best_param_grid_happy = json.load(f)\n",
    "    \n",
    "with open('params/svm/best_param_grid_mush', 'r') as f:\n",
    "    best_param_grid_mush = json.load(f)\n",
    "    \n",
    "with open('params/svm/best_param_grid_heart', 'r') as f:\n",
    "    best_param_grid_heart = json.load(f)"
   ]
  },
  {
   "cell_type": "code",
   "execution_count": null,
   "metadata": {},
   "outputs": [],
   "source": [
    "# Happiness SVM Training/Eval\n",
    "print(\"Best params:\", best_param_grid_happy, \"\\n\")\n",
    "classifier = clf_SVM(best_param_grid_happy)\n",
    "train_model(classifier, happy_X_train, happy_y_train)\n",
    "acc, prec, rec, f = evalModel(classifier, happy_X_test, happy_y_test)\n",
    "print(f\"Accuracy: {acc} \\nPrecision: {prec} \\nRecall: {rec} \\nF1 Score {f}\")"
   ]
  },
  {
   "cell_type": "code",
   "execution_count": null,
   "metadata": {},
   "outputs": [],
   "source": [
    "# Mushroom SVM\n",
    "print(\"Best params:\", best_param_grid_mush, \"\\n\")\n",
    "classifier = clf_SVM(best_param_grid_mush)\n",
    "train_model(classifier, mush_X_train, mush_y_train)\n",
    "acc, prec, rec, f = evalModel(classifier, mush_X_test, mush_y_test)\n",
    "print(f\"Accuracy: {acc} \\nPrecision: {prec} \\nRecall: {rec} \\nF1 Score {f}\")"
   ]
  },
  {
   "cell_type": "code",
   "execution_count": null,
   "metadata": {},
   "outputs": [],
   "source": [
    "# Heart SVM\n",
    "print(\"Best params:\", best_param_grid_heart, \"\\n\")\n",
    "classifier = clf_SVM(best_param_grid_heart)\n",
    "train_model(classifier, heart_X_train, heart_y_train)\n",
    "acc, prec, rec, f = evalModel(classifier, heart_X_test, heart_y_test)\n",
    "print(f\"Accuracy: {acc} \\nPrecision: {prec} \\nRecall: {rec} \\nF1 Score {f}\")"
   ]
  },
  {
   "cell_type": "markdown",
   "metadata": {},
   "source": [
    "### Logistic Regression"
   ]
  },
  {
   "cell_type": "code",
   "execution_count": null,
   "metadata": {},
   "outputs": [],
   "source": [
    "with open('params/log/best_param_grid_happy', 'r') as f:\n",
    "    best_param_grid_happy = json.load(f)\n",
    "    \n",
    "with open('params/log/best_param_grid_mush', 'r') as f:\n",
    "    best_param_grid_mush = json.load(f)\n",
    "    \n",
    "with open('params/log/best_param_grid_heart', 'r') as f:\n",
    "    best_param_grid_heart = json.load(f)"
   ]
  },
  {
   "cell_type": "code",
   "execution_count": null,
   "metadata": {},
   "outputs": [],
   "source": [
    "# Happiness Logistic Regression Training/Eval\n",
    "print(\"Best params:\", best_param_grid_happy, \"\\n\")\n",
    "classifier = clf_log(best_param_grid_happy)\n",
    "train_model(classifier, happy_X_train, happy_y_train)\n",
    "acc, prec, rec, f = evalModel(classifier, happy_X_test, happy_y_test)\n",
    "print(f\"Accuracy: {acc} \\nPrecision: {prec} \\nRecall: {rec} \\nF1 Score {f}\")"
   ]
  },
  {
   "cell_type": "code",
   "execution_count": null,
   "metadata": {},
   "outputs": [],
   "source": [
    "# Mushroom Logistic Regression Training/Eval\n",
    "print(\"Best params:\", best_param_grid_mush, \"\\n\")\n",
    "classifier = clf_log(best_param_grid_mush)\n",
    "train_model(classifier, mush_X_train, mush_y_train)\n",
    "acc, prec, rec, f = evalModel(classifier, mush_X_test, mush_y_test)\n",
    "print(f\"Accuracy: {acc} \\nPrecision: {prec} \\nRecall: {rec} \\nF1 Score {f}\")"
   ]
  },
  {
   "cell_type": "code",
   "execution_count": null,
   "metadata": {},
   "outputs": [],
   "source": [
    "# Heart Logistic Regression Training/Eval\n",
    "print(\"Best params:\", best_param_grid_heart, \"\\n\")\n",
    "classifier = clf_log(best_param_grid_heart)\n",
    "train_model(classifier, heart_X_train, heart_y_train)\n",
    "acc, prec, rec, f = evalModel(classifier, heart_X_test, heart_y_test)\n",
    "print(f\"Accuracy: {acc} \\nPrecision: {prec} \\nRecall: {rec} \\nF1 Score {f}\")"
   ]
  },
  {
   "cell_type": "markdown",
   "metadata": {},
   "source": [
    "### Decision Tree"
   ]
  },
  {
   "cell_type": "code",
   "execution_count": null,
   "metadata": {},
   "outputs": [],
   "source": [
    "with open('params/tree/best_param_grid_happy', 'r') as f:\n",
    "    best_param_grid_happy = json.load(f)\n",
    "    \n",
    "with open('params/tree/best_param_grid_mush', 'r') as f:\n",
    "    best_param_grid_mush = json.load(f)\n",
    "    \n",
    "with open('params/tree/best_param_grid_heart', 'r') as f:\n",
    "    best_param_grid_heart = json.load(f)"
   ]
  },
  {
   "cell_type": "code",
   "execution_count": null,
   "metadata": {},
   "outputs": [],
   "source": [
    "# Happiness Decision Tree Training/Eval\n",
    "print(\"Best params:\", best_param_grid_happy, \"\\n\")\n",
    "classifier = clf_tree(best_param_grid_happy)\n",
    "train_model(classifier, happy_X_train, happy_y_train)\n",
    "acc, prec, rec, f = evalModel(classifier, happy_X_test, happy_y_test)\n",
    "print(f\"Accuracy: {acc} \\nPrecision: {prec} \\nRecall: {rec} \\nF1 Score {f}\")"
   ]
  },
  {
   "cell_type": "code",
   "execution_count": null,
   "metadata": {},
   "outputs": [],
   "source": [
    "# Mushroom Decision Tree Training/Eval\n",
    "print(\"Best params:\", best_param_grid_mush, \"\\n\")\n",
    "classifier = clf_tree(best_param_grid_mush)\n",
    "train_model(classifier, mush_X_train, mush_y_train)\n",
    "acc, prec, rec, f = evalModel(classifier, mush_X_test, mush_y_test)\n",
    "print(f\"Accuracy: {acc} \\nPrecision: {prec} \\nRecall: {rec} \\nF1 Score {f}\")"
   ]
  },
  {
   "cell_type": "code",
   "execution_count": null,
   "metadata": {},
   "outputs": [],
   "source": [
    "# Heart Decision Tree Training/Eval\n",
    "print(\"Best params:\", best_param_grid_heart, \"\\n\")\n",
    "classifier = clf_tree(best_param_grid_heart)\n",
    "train_model(classifier, heart_X_train, heart_y_train)\n",
    "acc, prec, rec, f = evalModel(classifier, heart_X_test, heart_y_test)\n",
    "print(f\"Accuracy: {acc} \\nPrecision: {prec} \\nRecall: {rec} \\nF1 Score {f}\")"
   ]
  },
  {
   "cell_type": "markdown",
   "metadata": {},
   "source": [
    "### Perceptron"
   ]
  },
  {
   "cell_type": "code",
   "execution_count": null,
   "metadata": {},
   "outputs": [],
   "source": [
    "with open('params/perc/best_param_grid_happy', 'r') as f:\n",
    "    best_param_grid_happy = json.load(f)\n",
    "    \n",
    "with open('params/perc/best_param_grid_mush', 'r') as f:\n",
    "    best_param_grid_mush = json.load(f)\n",
    "    \n",
    "with open('params/perc/best_param_grid_heart', 'r') as f:\n",
    "    best_param_grid_heart = json.load(f)"
   ]
  },
  {
   "cell_type": "code",
   "execution_count": null,
   "metadata": {},
   "outputs": [],
   "source": [
    "# Happiness Decision Tree Training/Eval\n",
    "print(\"Best params:\", best_param_grid_happy, \"\\n\")\n",
    "classifier = clf_perc(best_param_grid_happy)\n",
    "train_model(classifier, happy_X_train, happy_y_train)\n",
    "acc, prec, rec, f = evalModel(classifier, happy_X_test, happy_y_test)\n",
    "print(f\"Accuracy: {acc} \\nPrecision: {prec} \\nRecall: {rec} \\nF1 Score {f}\")"
   ]
  },
  {
   "cell_type": "code",
   "execution_count": null,
   "metadata": {},
   "outputs": [],
   "source": [
    "# Mushroom Decision Tree Training/Eval\n",
    "print(\"Best params:\", best_param_grid_mush, \"\\n\")\n",
    "classifier = clf_perc(best_param_grid_mush)\n",
    "train_model(classifier, mush_X_train, mush_y_train)\n",
    "acc, prec, rec, f = evalModel(classifier, mush_X_test, mush_y_test)\n",
    "print(f\"Accuracy: {acc} \\nPrecision: {prec} \\nRecall: {rec} \\nF1 Score {f}\")"
   ]
  },
  {
   "cell_type": "code",
   "execution_count": null,
   "metadata": {},
   "outputs": [],
   "source": [
    "# Heart Decision Tree Training/Eval\n",
    "print(\"Best params:\", best_param_grid_heart, \"\\n\")\n",
    "classifier = clf_perc(best_param_grid_heart)\n",
    "train_model(classifier, heart_X_train, heart_y_train)\n",
    "acc, prec, rec, f = evalModel(classifier, heart_X_test, heart_y_test)\n",
    "print(f\"Accuracy: {acc} \\nPrecision: {prec} \\nRecall: {rec} \\nF1 Score {f}\")"
   ]
  },
  {
   "cell_type": "markdown",
   "metadata": {},
   "source": [
    "### Multi-Layer Perceptron"
   ]
  },
  {
   "cell_type": "code",
   "execution_count": null,
   "metadata": {},
   "outputs": [],
   "source": [
    "with open('params/mlp/best_param_grid_happy', 'r') as f:\n",
    "    best_param_grid_happy = json.load(f)\n",
    "    \n",
    "with open('params/mlp/best_param_grid_mush', 'r') as f:\n",
    "    best_param_grid_mush = json.load(f)\n",
    "    \n",
    "with open('params/mlp/best_param_grid_heart', 'r') as f:\n",
    "    best_param_grid_heart = json.load(f)"
   ]
  },
  {
   "cell_type": "code",
   "execution_count": null,
   "metadata": {},
   "outputs": [],
   "source": [
    "# Happiness MLP Training/Eval\n",
    "print(\"Best params:\", best_param_grid_happy, \"\\n\")\n",
    "classifier = clf_mlp(best_param_grid_happy)\n",
    "train_model(classifier, happy_X_train, happy_y_train)\n",
    "acc, prec, rec, f = evalModel(classifier, happy_X_test, happy_y_test)\n",
    "print(f\"Accuracy: {acc} \\nPrecision: {prec} \\nRecall: {rec} \\nF1 Score {f}\")"
   ]
  },
  {
   "cell_type": "code",
   "execution_count": null,
   "metadata": {},
   "outputs": [],
   "source": [
    "# Mushroom MLP Training/Eval\n",
    "print(\"Best params:\", best_param_grid_mush, \"\\n\")\n",
    "classifier = clf_mlp(best_param_grid_mush)\n",
    "train_model(classifier, mush_X_train, mush_y_train)\n",
    "acc, prec, rec, f = evalModel(classifier, mush_X_test, mush_y_test)\n",
    "print(f\"Accuracy: {acc} \\nPrecision: {prec} \\nRecall: {rec} \\nF1 Score {f}\")"
   ]
  },
  {
   "cell_type": "code",
   "execution_count": null,
   "metadata": {},
   "outputs": [],
   "source": [
    "# Heart MLP Training/Eval\n",
    "print(\"Best params:\", best_param_grid_heart, \"\\n\")\n",
    "classifier = clf_mlp(best_param_grid_heart)\n",
    "train_model(classifier, heart_X_train, heart_y_train)\n",
    "acc, prec, rec, f = evalModel(classifier, heart_X_test, heart_y_test)\n",
    "print(f\"Accuracy: {acc} \\nPrecision: {prec} \\nRecall: {rec} \\nF1 Score {f}\")"
   ]
  },
  {
   "cell_type": "markdown",
   "metadata": {},
   "source": [
    "### KNN"
   ]
  },
  {
   "cell_type": "code",
   "execution_count": null,
   "metadata": {},
   "outputs": [],
   "source": [
    "with open('params/knn/best_param_grid_happy', 'r') as f:\n",
    "    best_param_grid_happy = json.load(f)\n",
    "    \n",
    "with open('params/knn/best_param_grid_mush', 'r') as f:\n",
    "    best_param_grid_mush = json.load(f)\n",
    "    \n",
    "with open('params/knn/best_param_grid_heart', 'r') as f:\n",
    "    best_param_grid_heart = json.load(f)"
   ]
  },
  {
   "cell_type": "code",
   "execution_count": null,
   "metadata": {},
   "outputs": [],
   "source": [
    "# Happiness KNN Training/Eval\n",
    "print(\"Best params:\", best_param_grid_happy, \"\\n\")\n",
    "classifier = clf_knn(best_param_grid_happy)\n",
    "train_model(classifier, happy_X_train, happy_y_train)\n",
    "acc, prec, rec, f = evalModel(classifier, happy_X_test, happy_y_test)\n",
    "print(f\"Accuracy: {acc} \\nPrecision: {prec} \\nRecall: {rec} \\nF1 Score {f}\")"
   ]
  },
  {
   "cell_type": "code",
   "execution_count": null,
   "metadata": {},
   "outputs": [],
   "source": [
    "# Mushroom KNN Training/Eval\n",
    "print(\"Best params:\", best_param_grid_mush, \"\\n\")\n",
    "classifier = clf_knn(best_param_grid_mush)\n",
    "train_model(classifier, mush_X_train, mush_y_train)\n",
    "acc, prec, rec, f = evalModel(classifier, mush_X_test, mush_y_test)\n",
    "print(f\"Accuracy: {acc} \\nPrecision: {prec} \\nRecall: {rec} \\nF1 Score {f}\")"
   ]
  },
  {
   "cell_type": "code",
   "execution_count": null,
   "metadata": {},
   "outputs": [],
   "source": [
    "# Heart KNN Training/Eval\n",
    "print(\"Best params:\", best_param_grid_heart, \"\\n\")\n",
    "classifier = clf_knn(best_param_grid_heart)\n",
    "train_model(classifier, heart_X_train, heart_y_train)\n",
    "acc, prec, rec, f = evalModel(classifier, heart_X_test, heart_y_test)\n",
    "print(f\"Accuracy: {acc} \\nPrecision: {prec} \\nRecall: {rec} \\nF1 Score {f}\")"
   ]
  },
  {
   "cell_type": "markdown",
   "metadata": {},
   "source": [
    "### Random Forest"
   ]
  },
  {
   "cell_type": "code",
   "execution_count": null,
   "metadata": {},
   "outputs": [],
   "source": [
    "with open('params/rf/best_param_grid_happy', 'r') as f:\n",
    "    best_param_grid_happy = json.load(f)\n",
    "    \n",
    "with open('params/rf/best_param_grid_mush', 'r') as f:\n",
    "    best_param_grid_mush = json.load(f)\n",
    "    \n",
    "with open('params/rf/best_param_grid_heart', 'r') as f:\n",
    "    best_param_grid_heart = json.load(f)"
   ]
  },
  {
   "cell_type": "code",
   "execution_count": null,
   "metadata": {},
   "outputs": [],
   "source": [
    "# Happiness RF Training/Eval\n",
    "print(\"Best params:\", best_param_grid_happy, \"\\n\")\n",
    "classifier = clf_rf(best_param_grid_happy)\n",
    "train_model(classifier, happy_X_train, happy_y_train)\n",
    "acc, prec, rec, f = evalModel(classifier, happy_X_test, happy_y_test)\n",
    "print(f\"Accuracy: {acc} \\nPrecision: {prec} \\nRecall: {rec} \\nF1 Score {f}\")"
   ]
  },
  {
   "cell_type": "code",
   "execution_count": null,
   "metadata": {},
   "outputs": [],
   "source": [
    "# Mushroom RF Training/Eval\n",
    "print(\"Best params:\", best_param_grid_mush, \"\\n\")\n",
    "classifier = clf_rf(best_param_grid_mush)\n",
    "train_model(classifier, mush_X_train, mush_y_train)\n",
    "acc, prec, rec, f = evalModel(classifier, mush_X_test, mush_y_test)\n",
    "print(f\"Accuracy: {acc} \\nPrecision: {prec} \\nRecall: {rec} \\nF1 Score {f}\")"
   ]
  },
  {
   "cell_type": "code",
   "execution_count": null,
   "metadata": {},
   "outputs": [],
   "source": [
    "# Heart RF Training/Eval\n",
    "print(\"Best params:\", best_param_grid_heart, \"\\n\")\n",
    "classifier = clf_rf(best_param_grid_heart)\n",
    "train_model(classifier, heart_X_train, heart_y_train)\n",
    "acc, prec, rec, f = evalModel(classifier, heart_X_test, heart_y_test)\n",
    "print(f\"Accuracy: {acc} \\nPrecision: {prec} \\nRecall: {rec} \\nF1 Score {f}\")"
   ]
  },
  {
   "cell_type": "markdown",
   "metadata": {},
   "source": [
    "## Evaluation Pipeline"
   ]
  },
  {
   "cell_type": "markdown",
   "metadata": {},
   "source": [
    "- 3 trials\n",
    "    - 3 datasets\n",
    "        - 4 models\n",
    "            - 3 splits (80/20, 20/80, 50/50)    "
   ]
  },
  {
   "cell_type": "code",
   "execution_count": null,
   "metadata": {},
   "outputs": [],
   "source": [
    "num_trials = 3\n",
    "datasets = ['happy', 'mush', 'heart']\n",
    "splits = [0.2, 0.5, 0.8]\n",
    "models = ['log', 'svm', 'tree', 'perc', 'mlp', 'knn', 'rf']"
   ]
  },
  {
   "cell_type": "code",
   "execution_count": null,
   "metadata": {},
   "outputs": [],
   "source": [
    "# Loop through datasets\n",
    "dataset_scores = {}\n",
    "for dataset in datasets:\n",
    "    \n",
    "    # Loop through models\n",
    "    model_scores = {}\n",
    "    for model in models:\n",
    "        \n",
    "        # Load best model params for given model and dataset\n",
    "        with open(f'params/{model}/best_param_grid_{dataset}', 'r') as f:\n",
    "            best_param_grid = json.load(f)\n",
    "            \n",
    "            # Loop through trials\n",
    "            trial_scores = {}\n",
    "            for i in range(num_trials):\n",
    "                \n",
    "                # Loop through dataset splits\n",
    "                split_scores = {}\n",
    "                for split in splits:\n",
    "                    \n",
    "                    # Prepare data splits\n",
    "                    X, y, X_train, X_test, y_train, y_test = pre_process(dataset=dataset, split=split)\n",
    "                    \n",
    "                    # Create classifier\n",
    "                    classifier = clf(model=model, param_grid=best_param_grid)\n",
    "                    \n",
    "                    # Train classifier\n",
    "                    train_model(classifier, X_train, y_train)\n",
    "                    \n",
    "                    # Evaluate classifier\n",
    "                    acc, prec, rec, f = evalModel(classifier, X_test, y_test)\n",
    "                    classifier_eval = {\"accuracy\" : acc, \"precision\": prec, \"recall\" : rec, \"f1_score\" : f}\n",
    "                    \n",
    "                    # Add evaluation scores for given split\n",
    "                    split_scores.update({f\"split_{split}\": classifier_eval})\n",
    "                    \n",
    "                # Add split scores for given trial\n",
    "                trial_scores.update({f\"trial_{i}\" : split_scores})\n",
    "                \n",
    "        # Add trial scores for given model\n",
    "        model_scores.update({f\"model_{model}\" : trial_scores})\n",
    "        \n",
    "    # Add model scores for given dataset\n",
    "    dataset_scores.update({f\"data_{dataset}\": model_scores})\n",
    "    \n",
    "with open('scores/dataset_scores', 'w') as f:\n",
    "    json.dump(dataset_scores, f)"
   ]
  },
  {
   "cell_type": "code",
   "execution_count": null,
   "metadata": {},
   "outputs": [],
   "source": [
    "with open('scores/dataset_scores', 'r') as f:\n",
    "    dataset_scores = json.load(f)"
   ]
  },
  {
   "cell_type": "markdown",
   "metadata": {},
   "source": [
    "## Dataset Results"
   ]
  },
  {
   "cell_type": "code",
   "execution_count": null,
   "metadata": {},
   "outputs": [],
   "source": [
    "def query_data(_dataset_name, _model_name, dataset_scores=dataset_scores):\n",
    "    split_02 = []\n",
    "    split_05 = []\n",
    "    split_08 = []\n",
    "    for dataset, data in dataset_scores.items():\n",
    "        for model_name, model_data in data.items():\n",
    "            for trial_name, trial_data in model_data.items():\n",
    "                for split_name, split_data in trial_data.items():\n",
    "                    if dataset==_dataset_name and model_name==_model_name:\n",
    "                        if split_name==\"split_0.2\":\n",
    "                            split_02.append(split_data[\"accuracy\"])\n",
    "                        elif split_name==\"split_0.5\":\n",
    "                            split_05.append(split_data[\"accuracy\"])\n",
    "                        elif split_name==\"split_0.8\":\n",
    "                            split_08.append(split_data[\"accuracy\"])\n",
    "                        \n",
    "    df = pd.DataFrame([split_02, split_05, split_08], columns=[\"Trial 1\", \"Trial 2\", \"Trial 3\"])\n",
    "    df[\"Trial_Avg\"] = df.T.mean()\n",
    "#     df[\"Type\"] = _model_name\n",
    "#     df[\"Data\"] = _dataset_name\n",
    "    df.loc[3] = df.mean()\n",
    "    df = df.rename({0:\"Split 0.2\", 1:\"Split 0.5\", 2: \"Split 0.8\", 3: \"Split_Avg\"})\n",
    "    return df"
   ]
  },
  {
   "cell_type": "markdown",
   "metadata": {},
   "source": [
    "### Happiness Survey"
   ]
  },
  {
   "cell_type": "code",
   "execution_count": null,
   "metadata": {},
   "outputs": [],
   "source": [
    "happy_df = pd.concat({\"Log Regression\": query_data(\"data_happy\", \"model_log\"),\n",
    "                      \"SVM\" : query_data(\"data_happy\", \"model_svm\"),\n",
    "                      \"Decision Tree\" : query_data(\"data_happy\", \"model_tree\"),\n",
    "                      \"Perceptron\" : query_data(\"data_happy\", \"model_perc\"),\n",
    "                      \"MLP\" : query_data(\"data_happy\", \"model_mlp\"),\n",
    "                     \"KNN\" : query_data(\"data_happy\", \"model_knn\"),\n",
    "                     \"Random Forest\" : query_data(\"data_happy\", \"model_rf\")})\n",
    "happy_df"
   ]
  },
  {
   "cell_type": "markdown",
   "metadata": {},
   "source": [
    "### Mushroom"
   ]
  },
  {
   "cell_type": "code",
   "execution_count": null,
   "metadata": {},
   "outputs": [],
   "source": [
    "mush_df = pd.concat({\"Log Regression\": query_data(\"data_mush\", \"model_log\"),\n",
    "                              \"SVM\" : query_data(\"data_mush\", \"model_svm\"),\n",
    "                    \"Decision Tree\" : query_data(\"data_mush\", \"model_tree\"),\n",
    "                    \"Perceptron\" : query_data(\"data_mush\", \"model_perc\"),\n",
    "                    \"MLP\" : query_data(\"data_mush\", \"model_mlp\"),\n",
    "                    \"KNN\" : query_data(\"data_mush\", \"model_knn\"),\n",
    "                    \"Random Forest\" : query_data(\"data_mush\", \"model_rf\")})\n",
    "mush_df"
   ]
  },
  {
   "cell_type": "code",
   "execution_count": null,
   "metadata": {},
   "outputs": [],
   "source": [
    "heart_df = pd.concat({\"Log Regression\": query_data(\"data_heart\", \"model_log\"),\n",
    "                              \"SVM\" : query_data(\"data_heart\", \"model_svm\"),\n",
    "                     \"Decision Tree\" : query_data(\"data_heart\", \"model_tree\"),\n",
    "                     \"Perceptron\" : query_data(\"data_heart\", \"model_perc\"),\n",
    "                     \"MLP\" : query_data(\"data_heart\", \"model_mlp\"),\n",
    "                     \"KNN\" : query_data(\"data_heart\", \"model_knn\"),\n",
    "                     \"Random Forest\" : query_data(\"data_heart\", \"model_rf\")})\n",
    "heart_df"
   ]
  },
  {
   "cell_type": "code",
   "execution_count": null,
   "metadata": {},
   "outputs": [],
   "source": [
    "main_df = pd.concat({\"Happy\" : happy_df, \"Mush\" : mush_df, \"Heart\" : heart_df})\n",
    "main_df.to_csv(\"data/main_df.csv\")\n",
    "main_df"
   ]
  },
  {
   "cell_type": "markdown",
   "metadata": {},
   "source": [
    "## Instructions"
   ]
  },
  {
   "cell_type": "markdown",
   "metadata": {},
   "source": [
    "Single person project and no team work.\n",
    "\n",
    "Report format:\n",
    "\n",
    "Write a report with >1,000 words (excluding references) including main sections: a) abstract, b) introduction, c) method, d) experiment, e) conclusion, and f) references. You can follow the paper format as e.g leading machine learning journals such as Journal of Machine Learning Research (http://www.jmlr.org/) or IEEE Trans. on Pattern Analysis and Machine Intelligence (http://www.computer.org/web/tpami), or leading conferences like NeurIPS (https://papers.nips.cc/) and ICML (https://icml.cc/). There is no page limit for your report.\n",
    "\n",
    "Bonus points: \n",
    "\n",
    "If you feel that your work deserves bonus points due to reasons such as: a) novel ideas and applications, b) large efforts in your own data collection/preparation, c) state-of-the-art classification results, or d) new algorithms, please create a \"Bonus Points\" section to specifically describe why you deserve bonus points.\n",
    "\n",
    "In this project you will choose any three classifiers out of those tested in\n",
    "\n",
    "\n",
    "We have been discussing the classification problem in the form of two-class classifiers throughout the class. Some classifiers like decision tree, KNN, random forests stay agnostic w.r.t the number of classes but others like SVM and Boosting where explicit objective functions are involved don't.\n",
    "\n",
    "\n",
    "\n",
    "The basic requirement for the final project is based on the two-class classification problem. If you have additional bandwidth, you can experiment on the multi-class classification setting. When preparing the dataset to train your classifier (two-class), please try to merge the labels into two groups, positives and negatives, if your dataset happens to consist multi-class labels.\n",
    "\n",
    "\n",
    "\n",
    "Train your classifiers using the setting (not all metrics are needed) described in the empirical study by Caruana and Niculescu-Mizil. You are supposed to reproduce consistent results as in the paper. However, do expect some small variations. When evaluating the algorithms, you don’t need to use all the metrics that were reported in the paper. Using one metric, e.g. the classification accuracy, is sufficient. Please report the cross-validated classification results with the corresponding learned hyper-parameters.\n",
    "\n",
    "Note that since you are choosing your own libraries for the classifiers, there are implementation details that will affect the classification results. Even the same SVM but with different implementations, you won't be able to see identical results when trained on the same dataset. Therefore, don't expect the identical results as those in the paper, as you are probably using a subset and not all the features. If you see a bit difference in ranking, it should ok but the overall trend should be consistent, e.g. random forest should do well, more training data leads to better results, knn is not necessarily very bad etc.\n",
    "\n",
    "If you compute accuracy and follow the basic requirement picking 3 classifiers and 3 datasets. You are looking at 3 trials X 3 classifiers X 3 datasets X 3 partitions (20/80, 50/50, 80/20). Each time you always report the best accuracy under the chosen hyper-parameter. Since for the accuracy is averaged among three 3 trials to rank order the classifiers, you will report 3 classifiers X 3 datasets X 3 partitions  (20/80, 50/50, 80/20)  X 3. accuracies (train, validation, test). When trying to debug, always try to see the training accuracy to see if you are able to at least push the training accuracy high (to overfit the data) as a sanity check making sure your implementation is correct. The heatmaps for your hyper-parameters are the details that do not need to be too carefully compared with. The searching for the hyper-parameters is internal and the final conclusion about the classifiers is based on the best hyper-parameter you have obtained for each time.\n",
    "\n",
    "Since the exact data setting might have changed, the specific parameters and hyper-parameters reported in Caruana and Niculescu-Mizil paper serve as a guideline but you don't need to try all of them. You can try a few standard ones, as long as your classification results are reasonable. If you pick the multi-layer perceptron as one of your classifiers, note that you may need to increase the number of layers to e.g. 3 and create more neurons in each layer to attain good results, for some datasets.\n",
    "\n",
    "You can alternatively or additionally adopt the datasets and classifiers reported in a follow-up paper, Caruana et al. ICML 2008.\n",
    " \n",
    "You are encouraged to use Python, but using other programming languages and platforms is ok. The candidate classifiers include:\n",
    "1. Boosting family classifiers\n",
    "http://www.mathworks.com/matlabcentral/fileexchange/21317-adaboost\n",
    "or\n",
    "https://github.com/dmlc/xgboost\n",
    "2. Support vector machines\n",
    "http://www.csie.ntu.edu.tw/~cjlin/libsvm/\n",
    "3. Random Forests\n",
    "http://www.stat.berkeley.edu/~breiman/RandomForests/\n",
    "4. Decision Tree\n",
    "http://www.rulequest.com/Personal/ (please see also see a sample matlab code in the attachment)\n",
    "5. K-nearest neighbors\n",
    "http://www.mathworks.com/matlabcentral/fileexchange/19345-efficient-k-nearest-neighbor-searchusing-jit\n",
    "6. Neural Nets\n",
    "http://www.cs.colostate.edu/~anderson/code/\n",
    "http://www.mathworks.com/products/neural-network/code-examples.html\n",
    "7. Logistic regression classifier\n",
    "8. Bagging family\n",
    "\n",
    "The links above are for your reference. You can implement your own classifier or download other\n",
    "versions you like online (But you need to make sure the code online is reliable). You are supposed to\n",
    "write a formal report describing about the experiments you run and the corresponding results (plus\n",
    "code).\n",
    "\n",
    "\n",
    "Grading\n",
    "Note that if you do well by satisfying the minimum requirement e.g. 3 classifiers on 3 datasets with cross-validation, you will receive a decent score but not the full 100 points. We are looking for something a bit more and please see the guideline below.\n",
    "\n",
    "When reporting the experimental results, there are two main sets of comparisons we are looking for:\n",
    "a. For each dataset on each paritition, show the comparison for different algorithms, and hopefully be consistent with the findings in the paper with Random Forests being the best etc.\n",
    "b. For each classifier on each partition, show the comparison on different partitions and you are supposed to show the increase of test accuracy (decrease of test error) with more training data and less test data.\n",
    "\n",
    "Note that the performance and function calls vary due to the particular ML libraries you are using. For example, the same SVM classifier provided in different toolboxes might result in different errors even trained on the same dataset. But the overall differences should be reasonable and interpretable. You may obtain a ranking that is somewhat different from that in the paper, due to differences in detailed implementation of the classifiers, different training sizes, features ect. But the overall trend should be explainable. For example, random forest usually has a pretty good performance; knn might not be as bad as you had thought, kernel-based SVM is sometimes sensitive to the hyper-parameters; using more data in training will lead to improvement, especially on difficult cases.\n",
    "\n",
    "The merit and grading of your project can be judged from aspects described below that are common\n",
    "when reviewing a paper:\n",
    "1. How challenging and large are the datasets you are studying? (10 points)\n",
    "2. Any aspects that are new in terms of algorithm development, uniqueness of the data, or new\n",
    "applications? (10 points)\n",
    "3. Is your experimental design comprehensive? Have you done thoroughly experiments in tuning\n",
    "hyper-parameters and performing cross validation (you should also try different data partitions, e.g 20% training and 80% testing, 50% training and 50% testing, and 80% training and 20% testing for multiple rounds, e.g. 3 times each for the above three partitions and compute average scores to remove potentials of having accidental results); try to report both the training and testing errors after cross-validation; it is encouraged to also report the training and validation errors during cross-validation using classification error/accuracy curves w.r.t. the hyper-parameters. (50 points)\n",
    "4. Is your report written in a professional way with sections including abstract, introduction, data\n",
    "and problem description, method description, experiments, conclusion, and references? (30\n",
    "points)\n",
    "5. Bonus points will be assigned to projects in which new ideas have been developed and implemented, or thorough experiments where extensive empirical studies have been carried out (e.g. evaluated on >=5 classifiers and >=4 datasets)."
   ]
  },
  {
   "cell_type": "markdown",
   "metadata": {},
   "source": [
    "### Links"
   ]
  },
  {
   "cell_type": "markdown",
   "metadata": {},
   "source": [
    "https://towardsdatascience.com/hyperparameter-tuning-the-random-forest-in-python-using-scikit-learn-28d2aa77dd74"
   ]
  },
  {
   "cell_type": "code",
   "execution_count": null,
   "metadata": {},
   "outputs": [],
   "source": []
  }
 ],
 "metadata": {
  "kernelspec": {
   "display_name": "Python 3",
   "language": "python",
   "name": "python3"
  },
  "language_info": {
   "codemirror_mode": {
    "name": "ipython",
    "version": 3
   },
   "file_extension": ".py",
   "mimetype": "text/x-python",
   "name": "python",
   "nbconvert_exporter": "python",
   "pygments_lexer": "ipython3",
   "version": "3.7.6"
  }
 },
 "nbformat": 4,
 "nbformat_minor": 4
}
