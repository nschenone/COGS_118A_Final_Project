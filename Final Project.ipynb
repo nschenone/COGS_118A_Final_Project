{
 "cells": [
  {
   "cell_type": "markdown",
   "metadata": {},
   "source": [
    "# Final Project\n",
    "## Nicholas Schenone - A13599911"
   ]
  },
  {
   "cell_type": "markdown",
   "metadata": {},
   "source": [
    "- 3 trials\n",
    "- 4 classifiers\n",
    "    - SVM\n",
    "    - Logistic Regression\n",
    "    - Perceptron\n",
    "    - Decision Tree\n",
    "- 3 datasets\n",
    "    - Heart Disease: https://www.kaggle.com/ronitf/heart-disease-uci\n",
    "    - Mushroom: https://archive.ics.uci.edu/ml/datasets/Mushroom\n",
    "    - Somerville Happiness Survey Data Set: https://archive.ics.uci.edu/ml/datasets/Somerville+Happiness+Survey\n",
    "- 3 partitions (20/80, 50/50, 80/20)\n",
    "- 3 accuracies per (train, validation, test)"
   ]
  },
  {
   "cell_type": "markdown",
   "metadata": {},
   "source": [
    "### Imports"
   ]
  },
  {
   "cell_type": "code",
   "execution_count": 1,
   "metadata": {},
   "outputs": [],
   "source": [
    "import pandas as pd\n",
    "\n",
    "from sklearn.model_selection import train_test_split, GridSearchCV, RandomizedSearchCV\n",
    "from sklearn.preprocessing import StandardScaler\n",
    "from sklearn import svm\n",
    "from sklearn.svm import SVC\n",
    "from sklearn.metrics import accuracy_score\n",
    "\n",
    "import seaborn as sns"
   ]
  },
  {
   "cell_type": "markdown",
   "metadata": {},
   "source": [
    "### Pre-Process Data"
   ]
  },
  {
   "cell_type": "code",
   "execution_count": 2,
   "metadata": {},
   "outputs": [],
   "source": [
    "def heart_pre_process(data_path=\"data/heart_disease/heart.csv\", split=0.2):\n",
    "    df_heart = pd.read_csv(data_path)\n",
    "    X = df_heart.iloc[:, 0 : len(df_heart.columns) - 1]\n",
    "    X = StandardScaler().fit_transform(X)\n",
    "\n",
    "    y = df_heart.iloc[:, len(df_heart.columns) - 1]\n",
    "    y = y.values.ravel()\n",
    "\n",
    "    X_train, X_test, y_train, y_test = train_test_split(X, y, test_size=split)\n",
    "\n",
    "    return X, y, X_train, X_test, y_train, y_test"
   ]
  },
  {
   "cell_type": "code",
   "execution_count": 3,
   "metadata": {},
   "outputs": [],
   "source": [
    "def mushroom_pre_process(data_path=\"data/mushroom/mushroom.csv\", split=0.2):\n",
    "    df_mushroom = pd.read_csv(data_path, header=None)\n",
    "    df_mush_one_hot = pd.get_dummies(df_mushroom);\n",
    "    \n",
    "    X = df_mush_one_hot.iloc[:,1:]\n",
    "    X = StandardScaler().fit_transform(X)\n",
    "\n",
    "    y = df_mush_one_hot.iloc[:, :1]\n",
    "    y = y.values.ravel()\n",
    "    \n",
    "    X_train, X_test, y_train, y_test = train_test_split(X, y, test_size=split)\n",
    "\n",
    "    return X, y, X_train, X_test, y_train, y_test"
   ]
  },
  {
   "cell_type": "code",
   "execution_count": 4,
   "metadata": {},
   "outputs": [],
   "source": [
    "def happiness_pre_process(data_path=\"data/happiness_survey/SomervilleHappinessSurvey2015.csv\", split=0.2):\n",
    "    df_happy = pd.read_csv(data_path, encoding = \"utf-16\")\n",
    "    df_happy_one_hot = pd.get_dummies(df_happy.astype(str));\n",
    "    \n",
    "    X = df_happy_one_hot.iloc[:,1:]\n",
    "    X = StandardScaler().fit_transform(X)\n",
    "\n",
    "    y = df_happy_one_hot.iloc[:, :1]\n",
    "    y = y.values.ravel()\n",
    "\n",
    "    X_train, X_test, y_train, y_test = train_test_split(X, y, test_size=split)\n",
    "\n",
    "    return X, y, X_train, X_test, y_train, y_test"
   ]
  },
  {
   "cell_type": "code",
   "execution_count": 5,
   "metadata": {},
   "outputs": [],
   "source": [
    "heart_X, heart_y, heart_X_train, heart_X_test, heart_y_train, heart_y_test = heart_pre_process(split=0.2)"
   ]
  },
  {
   "cell_type": "code",
   "execution_count": 6,
   "metadata": {},
   "outputs": [],
   "source": [
    "mush_X, mush_y, mush_X_train, mush_X_test, mush_y_train, mush_y_test = mushroom_pre_process(split=0.2)"
   ]
  },
  {
   "cell_type": "code",
   "execution_count": 7,
   "metadata": {},
   "outputs": [],
   "source": [
    "happy_X, happy_y, happy_X_train, happy_X_test, happy_y_train, happy_y_test = happiness_pre_process(split=0.2)"
   ]
  },
  {
   "cell_type": "markdown",
   "metadata": {},
   "source": [
    "### SVM"
   ]
  },
  {
   "cell_type": "code",
   "execution_count": 8,
   "metadata": {},
   "outputs": [],
   "source": [
    "def clfSVM(param_grid):\n",
    "    return svm.SVC(C = param_grid[\"C\"], gamma=param_grid[\"gamma\"], kernel=param_grid[\"kernel\"], max_iter = 10000)"
   ]
  },
  {
   "cell_type": "code",
   "execution_count": 9,
   "metadata": {},
   "outputs": [],
   "source": [
    "def trainSVM(classifier, X_train, y_train):\n",
    "    classifier.fit(X_train, y_train)"
   ]
  },
  {
   "cell_type": "code",
   "execution_count": 10,
   "metadata": {},
   "outputs": [],
   "source": [
    "def evalSVM(classifer, X_test, y_test):\n",
    "    y_pred = classifier.predict(X_test)\n",
    "    return accuracy_score(y_pred, y_test)"
   ]
  },
  {
   "cell_type": "markdown",
   "metadata": {},
   "source": [
    "### Hyperparameter Tuning"
   ]
  },
  {
   "cell_type": "code",
   "execution_count": 11,
   "metadata": {},
   "outputs": [],
   "source": [
    "svm_param_grid = {\n",
    "    \"C\" : [1, 10, 100, 1000, 10000],\n",
    "    \"gamma\" : [1e-6, 1e-5, 1e-4, 1e-3, 1e-2],\n",
    "    \"kernel\" : [\"linear\", \"rbf\"]\n",
    "}"
   ]
  },
  {
   "cell_type": "code",
   "execution_count": 12,
   "metadata": {},
   "outputs": [],
   "source": [
    "def hyper_tune(X_train, y_train, estimator, param_grid, cv):\n",
    "    grid_search = RandomizedSearchCV(estimator=estimator, param_distributions=param_grid, cv=cv, n_jobs=-1, verbose=10)\n",
    "    grid_search.fit(X_train, y_train)\n",
    "    print(\"Best params:\", grid_search.best_params_)\n",
    "    return grid_search.best_params_"
   ]
  },
  {
   "cell_type": "code",
   "execution_count": 13,
   "metadata": {},
   "outputs": [
    {
     "name": "stdout",
     "output_type": "stream",
     "text": [
      "Fitting 10 folds for each of 10 candidates, totalling 100 fits\n"
     ]
    },
    {
     "name": "stderr",
     "output_type": "stream",
     "text": [
      "[Parallel(n_jobs=-1)]: Using backend LokyBackend with 4 concurrent workers.\n",
      "[Parallel(n_jobs=-1)]: Done   5 tasks      | elapsed:    1.9s\n",
      "[Parallel(n_jobs=-1)]: Done  10 tasks      | elapsed:    1.9s\n",
      "[Parallel(n_jobs=-1)]: Done  17 tasks      | elapsed:    1.9s\n",
      "[Parallel(n_jobs=-1)]: Batch computation too fast (0.1716s.) Setting batch_size=2.\n",
      "[Parallel(n_jobs=-1)]: Done  24 tasks      | elapsed:    1.9s\n",
      "[Parallel(n_jobs=-1)]: Batch computation too fast (0.0217s.) Setting batch_size=4.\n",
      "[Parallel(n_jobs=-1)]: Done  38 tasks      | elapsed:    2.0s\n",
      "[Parallel(n_jobs=-1)]: Batch computation too fast (0.0386s.) Setting batch_size=8.\n"
     ]
    },
    {
     "name": "stdout",
     "output_type": "stream",
     "text": [
      "Best params: {'kernel': 'rbf', 'gamma': 1e-05, 'C': 1000}\n"
     ]
    },
    {
     "name": "stderr",
     "output_type": "stream",
     "text": [
      "[Parallel(n_jobs=-1)]: Done  65 tasks      | elapsed:    2.1s\n",
      "[Parallel(n_jobs=-1)]: Done  85 tasks      | elapsed:    2.2s\n",
      "[Parallel(n_jobs=-1)]: Done 100 out of 100 | elapsed:    2.2s finished\n",
      "/usr/local/lib/python3.7/site-packages/sklearn/model_selection/_search.py:814: DeprecationWarning: The default of the `iid` parameter will change from True to False in version 0.22 and will be removed in 0.24. This will change numeric results when test-set sizes are unequal.\n",
      "  DeprecationWarning)\n"
     ]
    }
   ],
   "source": [
    "# Happiness SVM Tuning\n",
    "best_param_grid_happy = hyper_tune(happy_X_train, happy_y_train, svm.SVC(), svm_param_grid, cv=10)"
   ]
  },
  {
   "cell_type": "code",
   "execution_count": 14,
   "metadata": {},
   "outputs": [
    {
     "name": "stdout",
     "output_type": "stream",
     "text": [
      "Fitting 10 folds for each of 10 candidates, totalling 100 fits\n"
     ]
    },
    {
     "name": "stderr",
     "output_type": "stream",
     "text": [
      "[Parallel(n_jobs=-1)]: Using backend LokyBackend with 4 concurrent workers.\n",
      "[Parallel(n_jobs=-1)]: Done   5 tasks      | elapsed:   29.2s\n",
      "[Parallel(n_jobs=-1)]: Done  10 tasks      | elapsed:   32.9s\n",
      "[Parallel(n_jobs=-1)]: Done  17 tasks      | elapsed:   42.0s\n",
      "[Parallel(n_jobs=-1)]: Done  24 tasks      | elapsed:  1.0min\n",
      "[Parallel(n_jobs=-1)]: Done  33 tasks      | elapsed:  1.3min\n",
      "[Parallel(n_jobs=-1)]: Done  42 tasks      | elapsed:  1.4min\n",
      "[Parallel(n_jobs=-1)]: Done  53 tasks      | elapsed:  1.6min\n",
      "[Parallel(n_jobs=-1)]: Done  64 tasks      | elapsed:  1.7min\n",
      "[Parallel(n_jobs=-1)]: Done  77 tasks      | elapsed:  1.7min\n",
      "[Parallel(n_jobs=-1)]: Done  90 tasks      | elapsed:  1.9min\n",
      "[Parallel(n_jobs=-1)]: Done 100 out of 100 | elapsed:  1.9min finished\n"
     ]
    },
    {
     "name": "stdout",
     "output_type": "stream",
     "text": [
      "Best params: {'kernel': 'rbf', 'gamma': 1e-05, 'C': 10}\n"
     ]
    }
   ],
   "source": [
    "# Mushroom SVM Tuning\n",
    "best_param_grid_mush = hyper_tune(mush_X_train, mush_y_train, svm.SVC(), svm_param_grid, cv=10)"
   ]
  },
  {
   "cell_type": "code",
   "execution_count": 15,
   "metadata": {},
   "outputs": [
    {
     "name": "stdout",
     "output_type": "stream",
     "text": [
      "Fitting 10 folds for each of 10 candidates, totalling 100 fits\n"
     ]
    },
    {
     "name": "stderr",
     "output_type": "stream",
     "text": [
      "[Parallel(n_jobs=-1)]: Using backend LokyBackend with 4 concurrent workers.\n",
      "[Parallel(n_jobs=-1)]: Done   5 tasks      | elapsed:    2.1s\n",
      "[Parallel(n_jobs=-1)]: Done  10 tasks      | elapsed:    2.1s\n",
      "[Parallel(n_jobs=-1)]: Done  17 tasks      | elapsed:    5.2s\n",
      "[Parallel(n_jobs=-1)]: Done  24 tasks      | elapsed:    6.6s\n",
      "[Parallel(n_jobs=-1)]: Done  33 tasks      | elapsed:    7.9s\n",
      "[Parallel(n_jobs=-1)]: Done  42 tasks      | elapsed:    8.1s\n",
      "[Parallel(n_jobs=-1)]: Batch computation too fast (0.1784s.) Setting batch_size=2.\n",
      "[Parallel(n_jobs=-1)]: Done  53 tasks      | elapsed:    8.2s\n",
      "[Parallel(n_jobs=-1)]: Batch computation too fast (0.0403s.) Setting batch_size=4.\n",
      "[Parallel(n_jobs=-1)]: Done  75 tasks      | elapsed:    8.3s\n",
      "[Parallel(n_jobs=-1)]: Batch computation too fast (0.1241s.) Setting batch_size=8.\n"
     ]
    },
    {
     "name": "stdout",
     "output_type": "stream",
     "text": [
      "Best params: {'kernel': 'rbf', 'gamma': 1e-06, 'C': 10000}\n"
     ]
    },
    {
     "name": "stderr",
     "output_type": "stream",
     "text": [
      "[Parallel(n_jobs=-1)]: Done  93 out of 100 | elapsed:    8.8s remaining:    0.7s\n",
      "[Parallel(n_jobs=-1)]: Done 100 out of 100 | elapsed:    9.0s finished\n",
      "/usr/local/lib/python3.7/site-packages/sklearn/model_selection/_search.py:814: DeprecationWarning: The default of the `iid` parameter will change from True to False in version 0.22 and will be removed in 0.24. This will change numeric results when test-set sizes are unequal.\n",
      "  DeprecationWarning)\n"
     ]
    }
   ],
   "source": [
    "# Heart SVM Tuning\n",
    "best_param_grid_heart = hyper_tune(heart_X_train, heart_y_train, svm.SVC(), svm_param_grid, cv=10)"
   ]
  },
  {
   "cell_type": "markdown",
   "metadata": {},
   "source": [
    "### SVM with best Params"
   ]
  },
  {
   "cell_type": "code",
   "execution_count": 16,
   "metadata": {},
   "outputs": [
    {
     "name": "stdout",
     "output_type": "stream",
     "text": [
      "{'kernel': 'rbf', 'gamma': 1e-05, 'C': 1000}\n",
      "Accuracy: 1.0\n"
     ]
    }
   ],
   "source": [
    "# Happiness SVM Training/Eval\n",
    "print(best_param_grid_happy)\n",
    "classifier = clfSVM(best_param_grid_happy)\n",
    "trainSVM(classifier, happy_X_train, happy_y_train)\n",
    "print(\"Accuracy:\", evalSVM(classifier, happy_X_test, happy_y_test))"
   ]
  },
  {
   "cell_type": "code",
   "execution_count": 17,
   "metadata": {},
   "outputs": [
    {
     "name": "stdout",
     "output_type": "stream",
     "text": [
      "{'kernel': 'rbf', 'gamma': 1e-05, 'C': 10}\n",
      "Accuracy 0.9987692307692307\n"
     ]
    }
   ],
   "source": [
    "# Mushroom SVM\n",
    "print(best_param_grid_mush)\n",
    "classifier = clfSVM(best_param_grid_mush)\n",
    "trainSVM(classifier, mush_X_train, mush_y_train)\n",
    "print(\"Accuracy\", evalSVM(classifier, mush_X_test, mush_y_test))"
   ]
  },
  {
   "cell_type": "code",
   "execution_count": 18,
   "metadata": {},
   "outputs": [
    {
     "name": "stdout",
     "output_type": "stream",
     "text": [
      "{'kernel': 'rbf', 'gamma': 1e-06, 'C': 10000}\n",
      "Accuracy 0.7868852459016393\n"
     ]
    }
   ],
   "source": [
    "# Heart SVM\n",
    "print(best_param_grid_heart)\n",
    "classifier = clfSVM(best_param_grid_heart)\n",
    "trainSVM(classifier, heart_X_train, heart_y_train)\n",
    "print(\"Accuracy\", evalSVM(classifier, heart_X_test, heart_y_test))"
   ]
  },
  {
   "cell_type": "markdown",
   "metadata": {},
   "source": [
    "## Instructions"
   ]
  },
  {
   "cell_type": "markdown",
   "metadata": {},
   "source": [
    "Single person project and no team work.\n",
    "\n",
    "Report format:\n",
    "\n",
    "Write a report with >1,000 words (excluding references) including main sections: a) abstract, b) introduction, c) method, d) experiment, e) conclusion, and f) references. You can follow the paper format as e.g leading machine learning journals such as Journal of Machine Learning Research (http://www.jmlr.org/) or IEEE Trans. on Pattern Analysis and Machine Intelligence (http://www.computer.org/web/tpami), or leading conferences like NeurIPS (https://papers.nips.cc/) and ICML (https://icml.cc/). There is no page limit for your report.\n",
    "\n",
    "Bonus points: \n",
    "\n",
    "If you feel that your work deserves bonus points due to reasons such as: a) novel ideas and applications, b) large efforts in your own data collection/preparation, c) state-of-the-art classification results, or d) new algorithms, please create a \"Bonus Points\" section to specifically describe why you deserve bonus points.\n",
    "\n",
    "In this project you will choose any three classifiers out of those tested in\n",
    "\n",
    "\n",
    "We have been discussing the classification problem in the form of two-class classifiers throughout the class. Some classifiers like decision tree, KNN, random forests stay agnostic w.r.t the number of classes but others like SVM and Boosting where explicit objective functions are involved don't.\n",
    "\n",
    "\n",
    "\n",
    "The basic requirement for the final project is based on the two-class classification problem. If you have additional bandwidth, you can experiment on the multi-class classification setting. When preparing the dataset to train your classifier (two-class), please try to merge the labels into two groups, positives and negatives, if your dataset happens to consist multi-class labels.\n",
    "\n",
    "\n",
    "\n",
    "Train your classifiers using the setting (not all metrics are needed) described in the empirical study by Caruana and Niculescu-Mizil. You are supposed to reproduce consistent results as in the paper. However, do expect some small variations. When evaluating the algorithms, you don’t need to use all the metrics that were reported in the paper. Using one metric, e.g. the classification accuracy, is sufficient. Please report the cross-validated classification results with the corresponding learned hyper-parameters.\n",
    "\n",
    "Note that since you are choosing your own libraries for the classifiers, there are implementation details that will affect the classification results. Even the same SVM but with different implementations, you won't be able to see identical results when trained on the same dataset. Therefore, don't expect the identical results as those in the paper, as you are probably using a subset and not all the features. If you see a bit difference in ranking, it should ok but the overall trend should be consistent, e.g. random forest should do well, more training data leads to better results, knn is not necessarily very bad etc.\n",
    "\n",
    "If you compute accuracy and follow the basic requirement picking 3 classifiers and 3 datasets. You are looking at 3 trials X 3 classifiers X 3 datasets X 3 partitions (20/80, 50/50, 80/20). Each time you always report the best accuracy under the chosen hyper-parameter. Since for the accuracy is averaged among three 3 trials to rank order the classifiers, you will report 3 classifiers X 3 datasets X 3 partitions  (20/80, 50/50, 80/20)  X 3. accuracies (train, validation, test). When trying to debug, always try to see the training accuracy to see if you are able to at least push the training accuracy high (to overfit the data) as a sanity check making sure your implementation is correct. The heatmaps for your hyper-parameters are the details that do not need to be too carefully compared with. The searching for the hyper-parameters is internal and the final conclusion about the classifiers is based on the best hyper-parameter you have obtained for each time.\n",
    "\n",
    "Since the exact data setting might have changed, the specific parameters and hyper-parameters reported in Caruana and Niculescu-Mizil paper serve as a guideline but you don't need to try all of them. You can try a few standard ones, as long as your classification results are reasonable. If you pick the multi-layer perceptron as one of your classifiers, note that you may need to increase the number of layers to e.g. 3 and create more neurons in each layer to attain good results, for some datasets.\n",
    "\n",
    "You can alternatively or additionally adopt the datasets and classifiers reported in a follow-up paper, Caruana et al. ICML 2008.\n",
    " \n",
    "You are encouraged to use Python, but using other programming languages and platforms is ok. The candidate classifiers include:\n",
    "1. Boosting family classifiers\n",
    "http://www.mathworks.com/matlabcentral/fileexchange/21317-adaboost\n",
    "or\n",
    "https://github.com/dmlc/xgboost\n",
    "2. Support vector machines\n",
    "http://www.csie.ntu.edu.tw/~cjlin/libsvm/\n",
    "3. Random Forests\n",
    "http://www.stat.berkeley.edu/~breiman/RandomForests/\n",
    "4. Decision Tree\n",
    "http://www.rulequest.com/Personal/ (please see also see a sample matlab code in the attachment)\n",
    "5. K-nearest neighbors\n",
    "http://www.mathworks.com/matlabcentral/fileexchange/19345-efficient-k-nearest-neighbor-searchusing-jit\n",
    "6. Neural Nets\n",
    "http://www.cs.colostate.edu/~anderson/code/\n",
    "http://www.mathworks.com/products/neural-network/code-examples.html\n",
    "7. Logistic regression classifier\n",
    "8. Bagging family\n",
    "\n",
    "The links above are for your reference. You can implement your own classifier or download other\n",
    "versions you like online (But you need to make sure the code online is reliable). You are supposed to\n",
    "write a formal report describing about the experiments you run and the corresponding results (plus\n",
    "code).\n",
    "\n",
    "\n",
    "Grading\n",
    "Note that if you do well by satisfying the minimum requirement e.g. 3 classifiers on 3 datasets with cross-validation, you will receive a decent score but not the full 100 points. We are looking for something a bit more and please see the guideline below.\n",
    "\n",
    "When reporting the experimental results, there are two main sets of comparisons we are looking for:\n",
    "a. For each dataset on each paritition, show the comparison for different algorithms, and hopefully be consistent with the findings in the paper with Random Forests being the best etc.\n",
    "b. For each classifier on each partition, show the comparison on different partitions and you are supposed to show the increase of test accuracy (decrease of test error) with more training data and less test data.\n",
    "\n",
    "Note that the performance and function calls vary due to the particular ML libraries you are using. For example, the same SVM classifier provided in different toolboxes might result in different errors even trained on the same dataset. But the overall differences should be reasonable and interpretable. You may obtain a ranking that is somewhat different from that in the paper, due to differences in detailed implementation of the classifiers, different training sizes, features ect. But the overall trend should be explainable. For example, random forest usually has a pretty good performance; knn might not be as bad as you had thought, kernel-based SVM is sometimes sensitive to the hyper-parameters; using more data in training will lead to improvement, especially on difficult cases.\n",
    "\n",
    "The merit and grading of your project can be judged from aspects described below that are common\n",
    "when reviewing a paper:\n",
    "1. How challenging and large are the datasets you are studying? (10 points)\n",
    "2. Any aspects that are new in terms of algorithm development, uniqueness of the data, or new\n",
    "applications? (10 points)\n",
    "3. Is your experimental design comprehensive? Have you done thoroughly experiments in tuning\n",
    "hyper-parameters and performing cross validation (you should also try different data partitions, e.g 20% training and 80% testing, 50% training and 50% testing, and 80% training and 20% testing for multiple rounds, e.g. 3 times each for the above three partitions and compute average scores to remove potentials of having accidental results); try to report both the training and testing errors after cross-validation; it is encouraged to also report the training and validation errors during cross-validation using classification error/accuracy curves w.r.t. the hyper-parameters. (50 points)\n",
    "4. Is your report written in a professional way with sections including abstract, introduction, data\n",
    "and problem description, method description, experiments, conclusion, and references? (30\n",
    "points)\n",
    "5. Bonus points will be assigned to projects in which new ideas have been developed and implemented, or thorough experiments where extensive empirical studies have been carried out (e.g. evaluated on >=5 classifiers and >=4 datasets)."
   ]
  }
 ],
 "metadata": {
  "kernelspec": {
   "display_name": "Python 3",
   "language": "python",
   "name": "python3"
  },
  "language_info": {
   "codemirror_mode": {
    "name": "ipython",
    "version": 3
   },
   "file_extension": ".py",
   "mimetype": "text/x-python",
   "name": "python",
   "nbconvert_exporter": "python",
   "pygments_lexer": "ipython3",
   "version": "3.7.6"
  }
 },
 "nbformat": 4,
 "nbformat_minor": 4
}
